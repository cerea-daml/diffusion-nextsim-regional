{
 "cells": [
  {
   "cell_type": "code",
   "execution_count": null,
   "id": "76fbf0cc-87cd-4d70-8d47-77cbaba92861",
   "metadata": {
    "tags": []
   },
   "outputs": [],
   "source": [
    "import xarray as xr\n",
    "import numpy as np\n",
    "import pandas as pd\n",
    "\n",
    "from scipy.stats import moment\n",
    "\n",
    "\n",
    "from diffusion_nextsim.deformation import estimate_deform\n",
    "\n",
    "import matplotlib.pyplot as plt\n",
    "import matplotlib.colors as mpl_c\n",
    "import matplotlib.gridspec as mpl_gs\n",
    "import matplotlib.dates as mpl_dates\n",
    "import cartopy.crs as ccrs\n",
    "import cartopy\n",
    "import cmocean"
   ]
  },
  {
   "cell_type": "code",
   "execution_count": null,
   "id": "f6474fa3-e3bb-476b-beab-26dca1aa547c",
   "metadata": {
    "tags": []
   },
   "outputs": [],
   "source": [
    "plt.style.use(\"paper\")\n",
    "plt.style.use(\"wiley\")"
   ]
  },
  {
   "cell_type": "markdown",
   "id": "d899cd14-d63d-42b7-87d1-5c8c18fb0cca",
   "metadata": {},
   "source": [
    "# Load data"
   ]
  },
  {
   "cell_type": "code",
   "execution_count": null,
   "id": "9cbf2c4f-c5f0-4fc8-8be0-7ff0a87ea209",
   "metadata": {},
   "outputs": [],
   "source": [
    "ds_nextsim = xr.open_dataset(\"data/consistency_nextsim.nc\")\n",
    "ds_deterministic = xr.open_dataset(\"data/consistency_deterministic.nc\")\n",
    "ds_diffusion = xr.open_dataset(\"data/consistency_diffusion.nc\")"
   ]
  },
  {
   "cell_type": "markdown",
   "id": "e2e1369b-7240-437a-9ae1-010efc04b919",
   "metadata": {},
   "source": [
    "## Estimate deformation"
   ]
  },
  {
   "cell_type": "code",
   "execution_count": null,
   "id": "a5f99b8a-1e32-4d61-9aaf-bc3759b71710",
   "metadata": {
    "tags": []
   },
   "outputs": [],
   "source": [
    "deform_nextsim = (estimate_deform(ds_nextsim) * 86400).compute()\n",
    "deform_deterministic = (estimate_deform(ds_deterministic) * 86400).compute()\n",
    "deform_diffusion = (estimate_deform(ds_diffusion) * 86400).compute()"
   ]
  },
  {
   "cell_type": "markdown",
   "id": "3f91887c-92c1-437d-ac28-f47a2bc656c0",
   "metadata": {},
   "source": [
    "# Scaling analysis"
   ]
  },
  {
   "cell_type": "code",
   "execution_count": null,
   "id": "5ad13835-0fb5-4c60-a840-8ee0057203a8",
   "metadata": {},
   "outputs": [],
   "source": [
    "base_res = 12\n",
    "coarsening = 2**np.arange(0, 7)\n",
    "resolution = coarsening * base_res\n",
    "markers = [\".\", \"+\", \"*\"]"
   ]
  },
  {
   "cell_type": "code",
   "execution_count": null,
   "id": "a6fb1949-c269-4755-8242-a0f86fbab8d4",
   "metadata": {},
   "outputs": [],
   "source": [
    "ds_scaling = np.stack([\n",
    "    moment(\n",
    "        deform_nextsim[\"deform_tot\"].coarsen(x=c, y=c).mean().values.flatten(),\n",
    "        moment=np.arange(1, 4),\n",
    "        nan_policy=\"omit\", center=0\n",
    "    )\n",
    "    for c in coarsening\n",
    "])\n",
    "det_scaling = np.stack([\n",
    "    moment(\n",
    "        deform_deterministic[\"deform_tot\"].coarsen(x=c, y=c).mean().values.flatten(),\n",
    "        moment=np.arange(1, 4),\n",
    "        nan_policy=\"omit\", center=0\n",
    "    )\n",
    "    for c in coarsening\n",
    "])\n",
    "diff_scaling = np.stack([\n",
    "    moment(\n",
    "        deform_diffusion[\"deform_tot\"].coarsen(x=c, y=c).mean().values.flatten(),\n",
    "        moment=np.arange(1, 4),\n",
    "        nan_policy=\"omit\", center=0\n",
    "    )\n",
    "    for c in coarsening\n",
    "])"
   ]
  },
  {
   "cell_type": "code",
   "execution_count": null,
   "id": "68df9405-7f00-462c-9cc7-c50d32108a79",
   "metadata": {},
   "outputs": [],
   "source": [
    "log_res = np.log10(resolution)\n",
    "log_res_mean = log_res.mean()\n",
    "log_res_perts = log_res-log_res_mean\n",
    "log_res_diff = np.diff(log_res)\n",
    "\n",
    "log_ds_scaling = np.log10(ds_scaling)\n",
    "log_ds_scaling_mean = log_ds_scaling.mean(axis=0)\n",
    "log_ds_scaling_perts = log_ds_scaling-log_ds_scaling_mean\n",
    "log_ds_coeff_mean = -np.linalg.lstsq(log_res_perts[:, None], log_ds_scaling_perts)[0].squeeze()\n",
    "log_ds_coeff = -np.diff(log_ds_scaling, axis=0) / log_res_diff[:, None]\n",
    "\n",
    "log_det_scaling = np.log10(det_scaling)\n",
    "log_det_scaling_mean = log_det_scaling.mean(axis=0)\n",
    "log_det_scaling_perts = log_det_scaling-log_det_scaling_mean\n",
    "log_det_coeff_mean = -np.linalg.lstsq(log_res_perts[:, None], log_det_scaling_perts)[0].squeeze()\n",
    "log_det_coeff = -np.diff(log_det_scaling, axis=0) / log_res_diff[:, None]\n",
    "\n",
    "log_diff_scaling = np.log10(diff_scaling)\n",
    "log_diff_scaling_mean = log_diff_scaling.mean(axis=0)\n",
    "log_diff_scaling_perts = log_diff_scaling-log_diff_scaling_mean\n",
    "log_diff_coeff_mean = -np.linalg.lstsq(log_res_perts[:, None], log_diff_scaling_perts)[0].squeeze()\n",
    "log_diff_coeff = -np.diff(log_diff_scaling, axis=0) / log_res_diff[:, None]"
   ]
  },
  {
   "cell_type": "code",
   "execution_count": null,
   "id": "6a0c3baa-b246-4494-af67-6fa52e5c6b14",
   "metadata": {},
   "outputs": [],
   "source": [
    "fig, ax = plt.subplots(nrows=2, figsize=(3, 4), dpi=150)\n",
    "\n",
    "ax[0].grid()\n",
    "for i in range(3):\n",
    "    ax[0].plot(\n",
    "        resolution,\n",
    "        np.power(10, log_ds_scaling_mean-log_res_perts[:, None] * log_ds_coeff_mean),\n",
    "        c=\"black\", ls=\"-\", zorder=2, lw=0.75\n",
    "    )\n",
    "    ax[0].plot(\n",
    "        resolution,\n",
    "        np.power(10, log_det_scaling_mean-log_res_perts[:, None] * log_det_coeff_mean),\n",
    "        c=\"#81B3D5\", ls=\"--\", zorder=2, lw=0.75\n",
    "    )\n",
    "    ax[0].plot(\n",
    "        resolution,\n",
    "        np.power(10, log_diff_scaling_mean-log_res_perts[:, None] * log_diff_coeff_mean),\n",
    "        c=\"#9E62A6\", ls=\"-\", zorder=2, lw=0.75\n",
    "    )\n",
    "    ax[0].scatter(resolution, ds_scaling[:, i], c=\"black\", marker=markers[i], zorder=3)\n",
    "    ax[0].scatter(resolution, det_scaling[:, i], c=\"#81B3D5\", marker=markers[i], zorder=3)\n",
    "    ax[0].scatter(resolution, diff_scaling[:, i], c=\"#9E62A6\", marker=markers[i], zorder=3)\n",
    "\n",
    "ax[0].set_ylabel(r\"$\\langle \\dot{\\epsilon}^{q}_{\\mathsf{tot}} \\rangle$ $(\\mathsf{day}^{-q})$\")\n",
    "ax[0].set_yscale(\"log\")\n",
    "ax[0].set_ylim(5E-5, 2E-1)\n",
    "ax[0].set_xlabel(\"Spatial scale (km)\")\n",
    "ax[0].set_xlim(10, 1000)\n",
    "ax[0].set_xscale(\"log\")\n",
    "\n",
    "ax[0].text(870, 0.045, \"q=1\")\n",
    "ax[0].text(870, 0.0025, \"q=2\")\n",
    "ax[0].text(870, 0.0002, \"q=3\")\n",
    "ax[0].text(0.02, 0.98, \"(a)\", ha=\"left\", va=\"top\", transform=ax[0].transAxes)\n",
    "\n",
    "ax[1].grid(ls=\"dotted\", lw=0.5)\n",
    "ax[1].errorbar(\n",
    "    np.arange(1, 4),\n",
    "    log_ds_coeff_mean,\n",
    "    yerr=np.abs(np.quantile(log_ds_coeff, q=np.array([0, 1]), axis=0)-log_ds_coeff_mean),\n",
    "    c=\"black\", capsize=4, label=\"neXtSIM\", zorder=97\n",
    ")\n",
    "ax[1].errorbar(\n",
    "    np.arange(1, 4),\n",
    "    log_det_coeff_mean,\n",
    "    yerr=np.abs(np.quantile(log_det_coeff, q=np.array([0, 1]), axis=0)-log_det_coeff_mean),\n",
    "    c=\"#81B3D5\", capsize=4, ls=\"--\", label=\"Deterministic\", zorder=98\n",
    ")\n",
    "ax[1].errorbar(\n",
    "    np.arange(1, 4),\n",
    "    log_diff_coeff_mean,\n",
    "    yerr=np.abs(np.quantile(log_diff_coeff, q=np.array([0, 1]), axis=0)-log_diff_coeff_mean),\n",
    "    c=\"#9E62A6\", capsize=4, label=\"ResDiffusion\", zorder=99\n",
    ")\n",
    "ax[1].text(0.02, 0.98, \"(b)\", ha=\"left\", va=\"top\", transform=ax[1].transAxes)\n",
    "ax[1].set_xlabel(r\"Moment q\")\n",
    "ax[1].set_ylabel(r\"Structure function $\\beta(q)$\")\n",
    "ax[1].set_xticks([1, 2, 3])\n",
    "ax[1].legend(framealpha=True, loc=2, bbox_to_anchor=(0.1, 1.05))\n",
    "fig.subplots_adjust(hspace=0.4)\n",
    "fig.align_ylabels(ax)\n",
    "\n",
    "fig.savefig(\"figures/fig_08_multiscaling.png\", dpi=300,)"
   ]
  },
  {
   "cell_type": "code",
   "execution_count": null,
   "id": "a6a301dc-fc62-4529-9a85-25baf2a02009",
   "metadata": {},
   "outputs": [],
   "source": []
  }
 ],
 "metadata": {
  "kernelspec": {
   "display_name": "diffusion_regional",
   "language": "python",
   "name": "diffusion_regional"
  },
  "language_info": {
   "codemirror_mode": {
    "name": "ipython",
    "version": 3
   },
   "file_extension": ".py",
   "mimetype": "text/x-python",
   "name": "python",
   "nbconvert_exporter": "python",
   "pygments_lexer": "ipython3",
   "version": "3.10.13"
  }
 },
 "nbformat": 4,
 "nbformat_minor": 5
}

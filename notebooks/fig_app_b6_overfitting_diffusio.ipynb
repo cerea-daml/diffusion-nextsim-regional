{
 "cells": [
  {
   "cell_type": "code",
   "execution_count": null,
   "id": "f083c53e-4e47-4b1f-80fb-1d9e3cfded80",
   "metadata": {},
   "outputs": [],
   "source": [
    "import wandb\n",
    "import numpy as np\n",
    "import pandas as pd\n",
    "import torch\n",
    "\n",
    "from tqdm.autonotebook import tqdm\n",
    "\n",
    "import matplotlib.pyplot as plt\n",
    "import matplotlib.colors as mpl_c\n",
    "import cartopy.crs as ccrs\n",
    "import cartopy\n",
    "import cmocean"
   ]
  },
  {
   "cell_type": "code",
   "execution_count": null,
   "id": "4096b8a2-ff92-4f2f-b215-3ec405c566aa",
   "metadata": {},
   "outputs": [],
   "source": [
    "plt.style.use(\"paper\")\n",
    "plt.style.use(\"wiley\")"
   ]
  },
  {
   "cell_type": "code",
   "execution_count": null,
   "id": "8f84dd84-43a4-415b-950d-d2d70bd460d1",
   "metadata": {},
   "outputs": [],
   "source": [
    "api = wandb.Api()"
   ]
  },
  {
   "cell_type": "code",
   "execution_count": null,
   "id": "fbf73f26-19b1-4d91-9bc5-a9fee5049899",
   "metadata": {},
   "outputs": [],
   "source": [
    "diff_runs = api.runs(\n",
    "    \"tobifinn/train_diffusion_nextsim_regional\",\n",
    "    filters={\n",
    "        \"display_name\": \"diff_l_exp\"\n",
    "    }\n",
    ")"
   ]
  },
  {
   "cell_type": "code",
   "execution_count": null,
   "id": "30c81e11-3146-4a1c-a8b0-d8a5f760311c",
   "metadata": {},
   "outputs": [],
   "source": [
    "std = np.array([0.7506, 0.1848, 0.1968, 0.0836, 0.0878])\n",
    "var = std**2"
   ]
  },
  {
   "cell_type": "code",
   "execution_count": null,
   "id": "dd6a886f-8930-4f59-a3db-adba66432e32",
   "metadata": {},
   "outputs": [],
   "source": [
    "results = pd.DataFrame()\n",
    "for r in tqdm(diff_runs):\n",
    "    curr_train = r.scan_history(\n",
    "        page_size=100000,\n",
    "        keys=[\"train/loss\", \"trainer/global_step\"]\n",
    "    )\n",
    "    curr_train = pd.Series([r[\"train/loss\"]for r in curr_train], index=[r[\"trainer/global_step\"] for r in curr_train])\n",
    "    curr_val = r.scan_history(\n",
    "        page_size=100000,\n",
    "        keys=[\"val/loss\", \"trainer/global_step\"]\n",
    "    )\n",
    "    curr_val = pd.Series([r[\"val/loss\"]for r in curr_val], index=[r[\"trainer/global_step\"] for r in curr_val])\n",
    "    curr_scores = r.scan_history(\n",
    "        page_size=100000,\n",
    "        keys=[\"scores/mse_sit\", \"scores/mse_sic\", \"scores/mse_damage\", \"scores/mse_siu\", \"scores/mse_siv\", \"trainer/global_step\"]\n",
    "    )\n",
    "    curr_mse = pd.DataFrame(\n",
    "        {\n",
    "            \"mse_sit\": [r[\"scores/mse_sit\"]/var[0] for r in curr_scores],\n",
    "            \"mse_sic\": [r[\"scores/mse_sic\"]/var[1] for r in curr_scores],\n",
    "            \"mse_sid\": [r[\"scores/mse_damage\"]/var[2] for r in curr_scores],\n",
    "            \"mse_siu\": [r[\"scores/mse_siu\"]/var[3] for r in curr_scores],\n",
    "            \"mse_siv\": [r[\"scores/mse_siv\"]/var[4] for r in curr_scores]\n",
    "        }, index=[r[\"trainer/global_step\"] for r in curr_scores]\n",
    "    )\n",
    "    curr_results = pd.concat([curr_train.to_frame(\"train_loss\"), curr_val.to_frame(\"val_loss\"), curr_mse], axis=1)\n",
    "    results = pd.concat((results, curr_results), axis=0)\n",
    "results = results.sort_index()"
   ]
  },
  {
   "cell_type": "code",
   "execution_count": null,
   "id": "dab63a52-e0e5-4fe1-8145-5ccf02de2d2e",
   "metadata": {},
   "outputs": [],
   "source": [
    "results = results.drop([198999, 335499])"
   ]
  },
  {
   "cell_type": "code",
   "execution_count": null,
   "id": "880febe6-6b05-40fe-9282-0f90a370060c",
   "metadata": {},
   "outputs": [],
   "source": [
    "fig, ax = plt.subplots(nrows=2, figsize=(4, 3))\n",
    "ax[0].grid()\n",
    "ax[0].plot(results[\"train_loss\"].dropna().index/100000, np.log10(results[\"train_loss\"].dropna()), c=\"salmon\", label=\"Train\", alpha=0.5)\n",
    "val_loss = results[\"val_loss\"].dropna()\n",
    "ax[0].plot(val_loss.index/100000, np.log10(val_loss), c=\"black\", label=\"Validation\")\n",
    "best_val = val_loss.argmin()\n",
    "ax[0].scatter(val_loss.index[best_val]/100000, np.log10(val_loss.iloc[best_val]), fc=\"yellow\", ec=\"black\", s=10, marker=\"o\", lw=0.5, zorder=99)\n",
    "\n",
    "ax[0].text(0.02, 0.98, \"(a)\", ha=\"left\", va=\"top\", transform=ax[0].transAxes)\n",
    "ax[0].legend()\n",
    "ax[0].set_ylabel(r\"$\\log_{10}$(Loss)\")\n",
    "ax[0].set_xlim(0, 3.85)\n",
    "ax[0].set_xticklabels([])\n",
    "\n",
    "ax[1].grid()\n",
    "mse_results = results.iloc[:, 2:].dropna()\n",
    "plt_var = ax[1].plot(mse_results.index/100000, np.log10(np.sqrt(mse_results)), c=\"0.5\", ls=\"--\", label=\"Variables\", lw=0.7, alpha=0.7)\n",
    "plt_avg, = ax[1].plot(mse_results.index/100000, np.log10(np.sqrt(mse_results.mean(axis=1))), c=\"black\", label=\"Averaged\")\n",
    "best_val = np.sqrt(mse_results.mean(axis=1)).argmin()\n",
    "ax[1].scatter(mse_results.index[best_val]/100000, np.log10(np.sqrt(mse_results.mean(axis=1))).iloc[best_val], fc=\"yellow\", ec=\"black\", s=20, marker=\"*\", lw=0.5, zorder=99)\n",
    "ax[1].text(0.02, 0.98, \"(b)\", ha=\"left\", va=\"top\", transform=ax[1].transAxes)\n",
    "ax[1].legend(handles=[plt_var[0], plt_avg])\n",
    "ax[1].set_yticks(np.log10([0.1, 0.2, 0.5]))\n",
    "ax[1].set_yticklabels([0.1, 0.2, 0.5])\n",
    "ax[1].set_ylabel(r\"nRMSE\")\n",
    "ax[1].set_xlim(0, 3.85)\n",
    "ax[1].set_xlabel(r\"Iterations $\\times 10^5$\")\n",
    "\n",
    "fig.align_ylabels(ax)\n",
    "fig.subplots_adjust(hspace=0.1)\n",
    "\n",
    "fig.savefig(\"figures/fig_app_b6_overfitting_diffusion.png\")"
   ]
  },
  {
   "cell_type": "code",
   "execution_count": null,
   "id": "4868d49b-83b4-4d88-8e9a-b5e284a8aece",
   "metadata": {},
   "outputs": [],
   "source": []
  }
 ],
 "metadata": {
  "kernelspec": {
   "display_name": "diffusion_regional",
   "language": "python",
   "name": "diffusion_regional"
  },
  "language_info": {
   "codemirror_mode": {
    "name": "ipython",
    "version": 3
   },
   "file_extension": ".py",
   "mimetype": "text/x-python",
   "name": "python",
   "nbconvert_exporter": "python",
   "pygments_lexer": "ipython3",
   "version": "3.10.13"
  }
 },
 "nbformat": 4,
 "nbformat_minor": 5
}

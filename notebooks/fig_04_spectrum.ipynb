{
 "cells": [
  {
   "cell_type": "code",
   "execution_count": null,
   "id": "eef2afa4-7e07-4449-93d2-e1f917bcaa34",
   "metadata": {},
   "outputs": [],
   "source": [
    "import wandb\n",
    "import numpy as np\n",
    "import pandas as pd\n",
    "\n",
    "from tqdm.autonotebook import tqdm\n",
    "\n",
    "import matplotlib.pyplot as plt\n",
    "import matplotlib.colors as mpl_c\n",
    "import cartopy.crs as ccrs\n",
    "import cartopy\n",
    "import cmocean"
   ]
  },
  {
   "cell_type": "code",
   "execution_count": null,
   "id": "a20640ad-3cd0-4399-aa74-a0b34de319c1",
   "metadata": {},
   "outputs": [],
   "source": [
    "plt.style.use(\"paper\")\n",
    "plt.style.use(\"wiley\")\n"
   ]
  },
  {
   "cell_type": "code",
   "execution_count": null,
   "id": "af2b42f8-b520-4461-930a-8137551260f4",
   "metadata": {},
   "outputs": [],
   "source": [
    "api = wandb.Api()"
   ]
  },
  {
   "cell_type": "code",
   "execution_count": null,
   "id": "e1938b29-9221-4591-92b0-01dcdf0d8943",
   "metadata": {},
   "outputs": [],
   "source": [
    "runs = api.runs(\n",
    "    \"tobifinn/test_diffusion_nextsim_regional\",\n",
    "    filters={\n",
    "        \"tags\": \"errors\"\n",
    "    }\n",
    ")"
   ]
  },
  {
   "cell_type": "code",
   "execution_count": null,
   "id": "8d52d888-d12d-4e14-ac88-9786fde34b0a",
   "metadata": {},
   "outputs": [],
   "source": [
    "results = {}\n",
    "for run in tqdm(runs):\n",
    "    try:\n",
    "        table = [artifact for artifact in run.logged_artifacts() if (artifact.type == 'run_table') & (\"testspectrum\" in artifact.name)][0]\n",
    "        table = table.get(\"test/spectrum.table.json\")\n",
    "        results[run.name] = pd.DataFrame(table.data, columns=table.columns)\n",
    "    except IndexError:\n",
    "        pass"
   ]
  },
  {
   "cell_type": "markdown",
   "id": "e6950746-9ffb-495c-8990-c7e519374db7",
   "metadata": {},
   "source": [
    "# Get delta x"
   ]
  },
  {
   "cell_type": "code",
   "execution_count": null,
   "id": "ecacbd8e-02f2-4dbc-b805-5be41ace9b22",
   "metadata": {},
   "outputs": [],
   "source": [
    "delta_x = 1/np.linspace(1, 32, 32) * 64 * 12"
   ]
  },
  {
   "cell_type": "code",
   "execution_count": null,
   "id": "6eda4583-7b5e-4a1d-b595-4b77dc37f897",
   "metadata": {},
   "outputs": [],
   "source": [
    "fig, ax = plt.subplots(nrows=3, ncols=2, dpi=90)\n",
    "\n",
    "for axi in ax:\n",
    "    for axij in axi:\n",
    "        axij.set_xlim(1000, 20)\n",
    "        axij.grid(ls=\"dotted\", lw=0.5, alpha=0.5)\n",
    "\n",
    "ax[0, 0].loglog(\n",
    "    delta_x, results[\"deterministic\"][\"0it_sit\"], c=\"black\"\n",
    ")\n",
    "ax[0, 0].loglog(\n",
    "    delta_x, results[\"deterministic\"][\"4it_sit\"], c=\"#81B3D5\"\n",
    ")\n",
    "ax[0, 0].loglog(\n",
    "    delta_x, results[\"resdiff_l_best_loss_ensemble\"][\"4it_sit\"], c=\"#9E62A6\"\n",
    ")\n",
    "ax[0, 0].text(0.05, 0.98, \"(a)\", ha=\"left\", va=\"top\", transform=ax[0, 0].transAxes)\n",
    "ax[0, 1].loglog(\n",
    "    delta_x, results[\"deterministic\"][\"0it_sit\"], c=\"black\", label=\"neXtSIM\"\n",
    ")\n",
    "ax[0, 1].loglog(\n",
    "    delta_x, results[\"deterministic\"][\"30it_sit\"], c=\"#81B3D5\", label=\"Deterministic\"\n",
    ")\n",
    "ax[0, 1].loglog(\n",
    "    delta_x, results[\"resdiff_l_best_loss_ensemble\"][\"30it_sit\"], c=\"#9E62A6\", label=\"ResDiffusion\"\n",
    ")\n",
    "ax[0, 1].text(0.05, 0.98, \"(b)\", ha=\"left\", va=\"top\", transform=ax[0, 1].transAxes)\n",
    "ax[0, 1].legend(loc=8, ncol=3, frameon=True, framealpha=1., bbox_to_anchor=[0., 1.05])\n",
    "\n",
    "ax[1, 0].loglog(\n",
    "    delta_x, results[\"deterministic\"][\"0it_damage\"], c=\"black\"\n",
    ")\n",
    "ax[1, 0].loglog(\n",
    "    delta_x, results[\"deterministic\"][\"4it_damage\"], c=\"#81B3D5\"\n",
    ")\n",
    "ax[1, 0].loglog(\n",
    "    delta_x, results[\"resdiff_l_best_loss_ensemble\"][\"4it_damage\"], c=\"#9E62A6\"\n",
    ")\n",
    "ax[1, 0].text(0.05, 0.98, \"(c)\", ha=\"left\", va=\"top\", transform=ax[1, 0].transAxes)\n",
    "\n",
    "ax[1, 1].loglog(\n",
    "    delta_x, results[\"deterministic\"][\"0it_damage\"], c=\"black\"\n",
    ")\n",
    "ax[1, 1].loglog(\n",
    "    delta_x, results[\"deterministic\"][\"30it_damage\"], c=\"#81B3D5\"\n",
    ")\n",
    "ax[1, 1].loglog(\n",
    "    delta_x, results[\"resdiff_l_best_loss_ensemble\"][\"30it_damage\"], c=\"#9E62A6\"\n",
    ")\n",
    "ax[1, 1].text(0.05, 0.98, \"(d)\", ha=\"left\", va=\"top\", transform=ax[1, 1].transAxes)\n",
    "\n",
    "ax[2, 0].loglog(\n",
    "    delta_x, results[\"deterministic\"][\"0it_siu\"], c=\"black\"\n",
    ")\n",
    "ax[2, 0].loglog(\n",
    "    delta_x, results[\"deterministic\"][\"4it_siu\"], c=\"#81B3D5\"\n",
    ")\n",
    "ax[2, 0].loglog(\n",
    "    delta_x, results[\"resdiff_l_best_loss_ensemble\"][\"4it_siu\"], c=\"#9E62A6\"\n",
    ")\n",
    "ax[2, 0].text(0.05, 0.98, \"(e)\", ha=\"left\", va=\"top\", transform=ax[2, 0].transAxes)\n",
    "\n",
    "ax[2, 1].loglog(\n",
    "    delta_x, results[\"deterministic\"][\"0it_siu\"], c=\"black\"\n",
    ")\n",
    "ax[2, 1].loglog(\n",
    "    delta_x, results[\"deterministic\"][\"30it_siu\"], c=\"#81B3D5\"\n",
    ")\n",
    "ax[2, 1].loglog(\n",
    "    delta_x, results[\"resdiff_l_best_loss_ensemble\"][\"30it_siu\"], c=\"#9E62A6\"\n",
    ")\n",
    "ax[2, 1].text(0.05, 0.98, \"(f)\", ha=\"left\", va=\"top\", transform=ax[2, 1].transAxes)\n",
    "\n",
    "ax[0, 0].set_ylim(4E3, 3E6)\n",
    "ax[0, 0].set_xticklabels([])\n",
    "ax[0, 0].set_ylabel(\"Thickness ($m^2$)\")\n",
    "ax[0, 0].set_title(\"After 2 days\", fontsize=10, y=0.8)\n",
    "\n",
    "ax[0, 1].set_ylim(4E3, 3E6)\n",
    "ax[0, 1].set_yticklabels([])\n",
    "ax[0, 1].set_xticklabels([])\n",
    "ax[0, 1].set_title(\"After 15 days\", fontsize=10, y=0.8)\n",
    "\n",
    "\n",
    "ax[1, 0].set_ylim(5E2, 3E5)\n",
    "ax[1, 0].set_ylabel(\"Damage ($1^2$)\")\n",
    "ax[1, 0].set_xticklabels([])\n",
    "\n",
    "ax[1, 1].set_ylim(5E2, 3E5)\n",
    "ax[1, 1].set_yticklabels([])\n",
    "ax[1, 1].set_xticklabels([])\n",
    "\n",
    "ax[2, 0].set_ylim(2.5E1, 4E4)\n",
    "ax[2, 0].set_ylabel(r\"Velocity ($\\frac{m^2}{s^2}$)\")\n",
    "\n",
    "ax[2, 1].set_ylim(2.5E1, 4E4)\n",
    "ax[2, 1].set_yticklabels([])\n",
    "\n",
    "fig.align_ylabels([ax[0, 0], ax[1, 0], ax[2, 0]])\n",
    "fig.supylabel(\"Power spectral density\", y=0.5, x=0)\n",
    "fig.supxlabel(r\"Wavelength $\\Delta x$ (km)\", x=0.5, y=0)\n",
    "fig.savefig(\"figures/fig_04_spectrum.png\", dpi=300,)"
   ]
  }
 ],
 "metadata": {
  "kernelspec": {
   "display_name": "diffusion_regional",
   "language": "python",
   "name": "diffusion_regional"
  },
  "language_info": {
   "codemirror_mode": {
    "name": "ipython",
    "version": 3
   },
   "file_extension": ".py",
   "mimetype": "text/x-python",
   "name": "python",
   "nbconvert_exporter": "python",
   "pygments_lexer": "ipython3",
   "version": "3.10.13"
  }
 },
 "nbformat": 4,
 "nbformat_minor": 5
}

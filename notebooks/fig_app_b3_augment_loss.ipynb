{
 "cells": [
  {
   "cell_type": "code",
   "execution_count": null,
   "id": "f083c53e-4e47-4b1f-80fb-1d9e3cfded80",
   "metadata": {},
   "outputs": [],
   "source": [
    "import wandb\n",
    "import numpy as np\n",
    "import pandas as pd\n",
    "import torch\n",
    "\n",
    "from tqdm.autonotebook import tqdm\n",
    "\n",
    "import matplotlib.pyplot as plt\n",
    "import matplotlib.colors as mpl_c\n",
    "import cartopy.crs as ccrs\n",
    "import cartopy\n",
    "import cmocean"
   ]
  },
  {
   "cell_type": "code",
   "execution_count": null,
   "id": "4096b8a2-ff92-4f2f-b215-3ec405c566aa",
   "metadata": {},
   "outputs": [],
   "source": [
    "plt.style.use(\"paper\")\n",
    "plt.style.use(\"wiley\")"
   ]
  },
  {
   "cell_type": "code",
   "execution_count": null,
   "id": "8f84dd84-43a4-415b-950d-d2d70bd460d1",
   "metadata": {},
   "outputs": [],
   "source": [
    "api = wandb.Api()"
   ]
  },
  {
   "cell_type": "code",
   "execution_count": null,
   "id": "fbf73f26-19b1-4d91-9bc5-a9fee5049899",
   "metadata": {},
   "outputs": [],
   "source": [
    "diff_runs = api.runs(\n",
    "    \"tobifinn/train_diffusion_nextsim_regional\",\n",
    "    filters={\n",
    "        \"$or\": [\n",
    "            {\"display_name\": \"deterministic\"},\n",
    "            {\"display_name\": \"det_no_aug\"},\n",
    "            {\"display_name\": \"det_no_labels\"},\n",
    "        ]\n",
    "    }\n",
    ")"
   ]
  },
  {
   "cell_type": "code",
   "execution_count": null,
   "id": "dd6a886f-8930-4f59-a3db-adba66432e32",
   "metadata": {},
   "outputs": [],
   "source": [
    "results = pd.DataFrame()\n",
    "for r in tqdm(diff_runs):\n",
    "    curr_val = r.scan_history(\n",
    "        page_size=100000,\n",
    "        keys=[\"val/loss\", \"trainer/global_step\"]\n",
    "    )\n",
    "    curr_val = pd.Series([r[\"val/loss\"]for r in curr_val], index=[r[\"trainer/global_step\"] for r in curr_val])\n",
    "    results = pd.concat((results, curr_val.to_frame(r.name)), axis=1)\n",
    "results = results.sort_index()"
   ]
  },
  {
   "cell_type": "code",
   "execution_count": null,
   "id": "4868d49b-83b4-4d88-8e9a-b5e284a8aece",
   "metadata": {},
   "outputs": [],
   "source": [
    "fig, ax = plt.subplots(figsize=(4, 2.5))\n",
    "ax.grid(which=\"both\")\n",
    "ax.plot(results[\"deterministic\"].dropna().index/100000, results[\"deterministic\"].dropna(), label=\"With labels\", c=\"#81B3D5\")\n",
    "ax.plot(results[\"det_no_labels\"].dropna().index/100000, results[\"det_no_labels\"].dropna(), label=\"W/o labels\", c=\"#83D6C1\")\n",
    "ax.plot(results[\"det_no_aug\"].dropna().index/100000, results[\"det_no_aug\"].dropna(), label=\"W/o augmentation\", c=\"#8583D6\")\n",
    "ax.set_xlim(0, 1)\n",
    "ax.set_ylim(0.145, 0.199)\n",
    "ax.legend()\n",
    "ax.set_ylabel(\"Validation loss\")\n",
    "ax.set_xlabel(r\"Iterations $\\times 10^5$\")\n",
    "fig.savefig(\"figures/fig_app_b3_augment_loss.png\")"
   ]
  },
  {
   "cell_type": "code",
   "execution_count": null,
   "id": "92bb9f2a-b5e9-470e-9860-3f76e169e4a5",
   "metadata": {},
   "outputs": [],
   "source": []
  }
 ],
 "metadata": {
  "kernelspec": {
   "display_name": "diffusion_regional",
   "language": "python",
   "name": "diffusion_regional"
  },
  "language_info": {
   "codemirror_mode": {
    "name": "ipython",
    "version": 3
   },
   "file_extension": ".py",
   "mimetype": "text/x-python",
   "name": "python",
   "nbconvert_exporter": "python",
   "pygments_lexer": "ipython3",
   "version": "3.10.13"
  }
 },
 "nbformat": 4,
 "nbformat_minor": 5
}

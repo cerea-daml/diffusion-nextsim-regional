{
 "cells": [
  {
   "cell_type": "code",
   "execution_count": null,
   "id": "3b66a047-ac14-4f39-8312-3336ca13f411",
   "metadata": {},
   "outputs": [],
   "source": [
    "import wandb\n",
    "import numpy as np\n",
    "import pandas as pd"
   ]
  },
  {
   "cell_type": "code",
   "execution_count": null,
   "id": "1535db31-5369-4c56-aa63-63e4238f54ab",
   "metadata": {},
   "outputs": [],
   "source": [
    "api = wandb.Api()"
   ]
  },
  {
   "cell_type": "code",
   "execution_count": null,
   "id": "9fa75e23-3467-4791-bc5d-18e8cc4a8e73",
   "metadata": {},
   "outputs": [],
   "source": [
    "runs = api.runs(\n",
    "    \"tobifinn/test_diffusion_nextsim_regional\",\n",
    "    filters={\n",
    "        \"tags\": \"errors\"\n",
    "    }\n",
    ")"
   ]
  },
  {
   "cell_type": "code",
   "execution_count": null,
   "id": "c84bfb0c-1f8e-4a0e-b07f-4fd1445c9dab",
   "metadata": {},
   "outputs": [],
   "source": [
    "std = np.array([0.7506, 0.1848, 0.1968, 0.0836, 0.0878])"
   ]
  },
  {
   "cell_type": "code",
   "execution_count": null,
   "id": "5e51945e-3770-435c-a11d-e6f9385a34e2",
   "metadata": {},
   "outputs": [],
   "source": [
    "columns = pd.MultiIndex.from_product([[\"1 it\", \"30 it\"], [\"SIT\", \"SIC\", \"damage\", \"SIU\", \"SIV\", \"nRMSE\"]])\n",
    "results = pd.DataFrame(columns=columns)\n",
    "\n",
    "for run in runs:\n",
    "    try:\n",
    "        table = [artifact for artifact in run.logged_artifacts() if artifact.type == 'run_table'][0]\n",
    "        table = table.get(\"test/scores.table.json\")\n",
    "        table = pd.DataFrame(table.data, columns=table.columns)\n",
    "        table[\"nRMSE\"] = np.sqrt(((table[[\"rmse_sit\", \"rmse_sic\", \"rmse_damage\", \"rmse_siu\", \"rmse_siv\"]]**2)/std**2).mean(axis=1))\n",
    "        table[[\"rmse_sit\", \"rmse_sic\", \"rmse_damage\", \"rmse_siu\", \"rmse_siv\"]] /= std\n",
    "        results.loc[run.name] = table[[\"rmse_sit\", \"rmse_sic\", \"rmse_damage\", \"rmse_siu\", \"rmse_siv\", \"nRMSE\"]].iloc[[1, 30]].stack().values\n",
    "    except IndexError:\n",
    "        pass"
   ]
  },
  {
   "cell_type": "code",
   "execution_count": null,
   "id": "1142befc-6b68-4787-af5e-b0540bc51046",
   "metadata": {},
   "outputs": [],
   "source": [
    "print(results.iloc[:, :6].round(2).to_latex(float_format=\"%.2f\"))"
   ]
  },
  {
   "cell_type": "code",
   "execution_count": null,
   "id": "72a11eeb-e7f8-4e86-bafd-6f2ba49ddd95",
   "metadata": {},
   "outputs": [],
   "source": [
    "print(results.iloc[:, 6:].round(2).to_latex(float_format=\"%.2f\"))"
   ]
  },
  {
   "cell_type": "code",
   "execution_count": null,
   "id": "420a11dc-e417-48e4-a1dc-c624852a8621",
   "metadata": {},
   "outputs": [],
   "source": []
  }
 ],
 "metadata": {
  "kernelspec": {
   "display_name": "diffusion_regional",
   "language": "python",
   "name": "diffusion_regional"
  },
  "language_info": {
   "codemirror_mode": {
    "name": "ipython",
    "version": 3
   },
   "file_extension": ".py",
   "mimetype": "text/x-python",
   "name": "python",
   "nbconvert_exporter": "python",
   "pygments_lexer": "ipython3",
   "version": "3.10.13"
  }
 },
 "nbformat": 4,
 "nbformat_minor": 5
}

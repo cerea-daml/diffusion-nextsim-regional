{
 "cells": [
  {
   "cell_type": "code",
   "execution_count": null,
   "id": "76fbf0cc-87cd-4d70-8d47-77cbaba92861",
   "metadata": {
    "tags": []
   },
   "outputs": [],
   "source": [
    "import xarray as xr\n",
    "import numpy as np\n",
    "import pandas as pd\n",
    "\n",
    "import matplotlib.pyplot as plt\n",
    "import matplotlib.colors as mpl_c\n",
    "import matplotlib.gridspec as mpl_gs\n",
    "import matplotlib.dates as mpl_dates\n",
    "import cartopy.crs as ccrs\n",
    "import cartopy\n",
    "import cmocean"
   ]
  },
  {
   "cell_type": "code",
   "execution_count": null,
   "id": "f6474fa3-e3bb-476b-beab-26dca1aa547c",
   "metadata": {
    "tags": []
   },
   "outputs": [],
   "source": [
    "plt.style.use(\"paper\")\n",
    "plt.style.use(\"wiley\")"
   ]
  },
  {
   "cell_type": "markdown",
   "id": "68ae3a39-6cb7-4b6a-aaaf-10b283210fe6",
   "metadata": {},
   "source": [
    "# Load the data"
   ]
  },
  {
   "cell_type": "code",
   "execution_count": null,
   "id": "0c9c48cc-7c37-4ca4-b1ab-2d74cc786179",
   "metadata": {},
   "outputs": [],
   "source": [
    "ds_nextsim = xr.open_dataset(\"data/consistency_nextsim.nc\")\n",
    "ds_deterministic = xr.open_dataset(\"data/consistency_deterministic.nc\")\n",
    "ds_diffusion = xr.open_dataset(\"data/consistency_diffusion.nc\")"
   ]
  },
  {
   "cell_type": "code",
   "execution_count": null,
   "id": "2217f32a-2aa3-45cd-9e4b-6ea83da471d2",
   "metadata": {},
   "outputs": [],
   "source": [
    "idx_ens = 0\n",
    "last_t = 100"
   ]
  },
  {
   "cell_type": "code",
   "execution_count": null,
   "id": "ba7a8296-afbb-4a54-a37b-12ce2b31b780",
   "metadata": {},
   "outputs": [],
   "source": [
    "fig, ax = plt.subplots(\n",
    "    ncols=3, figsize=(4, 4), dpi=120,\n",
    "    nrows=3\n",
    ")\n",
    "for axi in ax:\n",
    "    for axij in axi:\n",
    "        axij.set_facecolor(cmocean.cm.ice(0.))\n",
    "        axij.xaxis.set_visible(False)\n",
    "        axij.spines.left.set_visible(False)\n",
    "        axij.spines.right.set_visible(False)\n",
    "        axij.spines.bottom.set_visible(False)\n",
    "\n",
    "ax[0, 0].set_title(\"+ 12 hours\")\n",
    "ax[0, 1].set_title(\"+ 10 days\")\n",
    "ax[0, 2].set_title(f\"+ {last_t/2:.0f} days\")\n",
    "\n",
    "ax[0, 0].set_ylabel(\"neXtSIM\")\n",
    "ax[1, 0].set_ylabel(\"Deterministic\")\n",
    "ax[2, 0].set_ylabel(\"ResDiffusion\")\n",
    "\n",
    "for i, t in enumerate([1, 20, last_t]):\n",
    "    cf = ax[0, i].pcolormesh(\n",
    "        np.arange(64), np.arange(64),\n",
    "        ds_nextsim[\"sit\"].isel(time=t),\n",
    "        cmap=\"cmo.ice\", vmin=0, vmax=2.5,\n",
    "        shading=\"nearest\"\n",
    "    )\n",
    "    ax[0, i].text(0.02, 0.98, f\"({chr(97+i):s})\", transform=ax[0, i].transAxes, fontweight=\"heavy\", ha=\"left\", va=\"top\", c=\"white\")\n",
    "    ax[1, i].pcolormesh(\n",
    "        np.arange(64), np.arange(64),\n",
    "        ds_deterministic[\"sit\"].isel(time=t),\n",
    "        cmap=\"cmo.ice\", vmin=0, vmax=2.5,\n",
    "        shading=\"nearest\"\n",
    "    )\n",
    "    ax[1, i].text(0.02, 0.98, f\"({chr(97+i+3):s})\", transform=ax[1, i].transAxes, ha=\"left\", va=\"top\", c=\"white\")\n",
    "    cf = ax[2, i].pcolormesh(\n",
    "        np.arange(64), np.arange(64),\n",
    "        ds_diffusion[\"sit\"].isel(time=t, ens=idx_ens),\n",
    "        cmap=\"cmo.ice\", vmin=0, vmax=2.5,\n",
    "        shading=\"nearest\"\n",
    "    )\n",
    "    ax[2, i].text(0.02, 0.98, f\"({chr(97+i+6):s})\", transform=ax[2, i].transAxes, ha=\"left\", va=\"top\", c=\"white\")\n",
    "for axi in ax:\n",
    "    for axij in axi:\n",
    "        axij.set_yticks([])\n",
    "\n",
    "cax = fig.add_axes([0.92, 0.2, 0.02, 0.6])\n",
    "cbar = fig.colorbar(cf, cax) \n",
    "cbar.set_label(\"Sea-ice thickness (m)\")\n",
    "fig.savefig(\"figures/fig_05_spatial_sit.png\", dpi=300)"
   ]
  },
  {
   "cell_type": "code",
   "execution_count": null,
   "id": "05a7d131-efb2-41e0-baf7-8aa35b19fa35",
   "metadata": {},
   "outputs": [],
   "source": []
  }
 ],
 "metadata": {
  "kernelspec": {
   "display_name": "diffusion_regional",
   "language": "python",
   "name": "diffusion_regional"
  },
  "language_info": {
   "codemirror_mode": {
    "name": "ipython",
    "version": 3
   },
   "file_extension": ".py",
   "mimetype": "text/x-python",
   "name": "python",
   "nbconvert_exporter": "python",
   "pygments_lexer": "ipython3",
   "version": "3.10.13"
  }
 },
 "nbformat": 4,
 "nbformat_minor": 5
}

{
 "cells": [
  {
   "cell_type": "code",
   "execution_count": null,
   "id": "08806d5d-7534-4ce3-ac8b-023cdb3abc0c",
   "metadata": {},
   "outputs": [],
   "source": [
    "from functools import partial\n",
    "import logging\n",
    "logging.disable(logging.WARNING)\n",
    "\n",
    "from copy import deepcopy\n",
    "\n",
    "import numpy as np\n",
    "import xarray as xr\n",
    "import torch\n",
    "from torch.utils.data import DataLoader\n",
    "\n",
    "import lightning.pytorch as pl\n",
    "\n",
    "from k_diffusion.sampling import *\n",
    "from ddm_dynamical.scheduler import EDMSamplingScheduler, LinearScheduler, BinarizedScheduler\n",
    "from ddm_dynamical.sampler import KDiffusionSampler\n",
    "from ddm_dynamical.parameterization import VParam\n",
    "from ddm_dynamical.weighting import ExponentialWeighting\n",
    "from ddm_dynamical.utils import normalize_gamma\n",
    "\n",
    "from diffusion_nextsim.data import TrajectoryDataset\n",
    "from diffusion_nextsim.surrogate.diffusion import residual_preprocessing\n",
    "from diffusion_nextsim.utils import estimate_crps_ens, estimate_crps_gauss, get_fft_stats, estimate_spectrum\n",
    "\n",
    "from hydra import compose, initialize\n",
    "from hydra.utils import instantiate\n",
    "\n",
    "from tqdm.notebook import tqdm\n",
    "\n",
    "import matplotlib.pyplot as plt\n",
    "import matplotlib.colors as mpl_c\n",
    "import matplotlib.gridspec as mpl_gs\n",
    "import cartopy.crs as ccrs\n",
    "import cartopy\n",
    "import cmocean"
   ]
  },
  {
   "cell_type": "code",
   "execution_count": null,
   "id": "5cbfc62a-ce0d-4e49-8352-4a547259eeb9",
   "metadata": {},
   "outputs": [],
   "source": [
    "plt.style.use(\"paper\")\n",
    "plt.style.use(\"wiley\")"
   ]
  },
  {
   "cell_type": "code",
   "execution_count": null,
   "id": "074a4daa-40cb-4fa7-be73-d7b9acb8fa1b",
   "metadata": {},
   "outputs": [],
   "source": [
    "torch.manual_seed(42)\n",
    "device = torch.device(\"cuda\")\n",
    "torch.set_float32_matmul_precision('high')"
   ]
  },
  {
   "cell_type": "markdown",
   "id": "f1829dbc-b3ee-4a0b-983b-77a554d441e9",
   "metadata": {},
   "source": [
    "# Load data"
   ]
  },
  {
   "cell_type": "code",
   "execution_count": null,
   "id": "6ca3a167-a6da-4d1b-a5e8-84aa3c348f4a",
   "metadata": {},
   "outputs": [],
   "source": [
    "train_dataset = TrajectoryDataset(\n",
    "    \"../data/nextsim/train_regional.zarr\",\n",
    "    \"../data/auxiliary/ds_auxiliary_regional.nc\",\n",
    "    n_cycles=2\n",
    ")"
   ]
  },
  {
   "cell_type": "code",
   "execution_count": null,
   "id": "b398992f-44a1-4183-bbc4-5c7c1ae3daca",
   "metadata": {},
   "outputs": [],
   "source": [
    "train_loader = DataLoader(train_dataset, batch_size=1024, shuffle=True)\n",
    "train_data = next(iter(train_loader))"
   ]
  },
  {
   "cell_type": "code",
   "execution_count": null,
   "id": "5589a3b5-a051-4e51-9453-589434632ae2",
   "metadata": {},
   "outputs": [],
   "source": [
    "val_dataset = TrajectoryDataset(\n",
    "    \"../data/nextsim/validation_regional.zarr\",\n",
    "    \"../data/auxiliary/ds_auxiliary_regional.nc\",\n",
    "    n_cycles=2\n",
    ")"
   ]
  },
  {
   "cell_type": "code",
   "execution_count": null,
   "id": "3185ba0a-d25f-43fb-8bd1-e5253f3b8dfa",
   "metadata": {},
   "outputs": [],
   "source": [
    "val_loader = DataLoader(val_dataset, batch_size=1024, shuffle=True)\n",
    "val_data = next(iter(val_loader))"
   ]
  },
  {
   "cell_type": "markdown",
   "id": "c8799da0-e8d5-40ed-8012-4017785c9e81",
   "metadata": {},
   "source": [
    "# Load model"
   ]
  },
  {
   "cell_type": "code",
   "execution_count": null,
   "id": "be15743e-0c57-493a-b73b-8d262a6143a9",
   "metadata": {},
   "outputs": [],
   "source": [
    "with initialize(version_base=None, config_path=\"../configs\", job_name=\"predict_surrogate\"):\n",
    "    cfg = compose(\n",
    "        config_name=\"surrogate_test.yaml\",\n",
    "        overrides=[\n",
    "            \"+experiments/diffusion=diffusion\",\n",
    "            \"+computer=laputa\",\n",
    "            \"network=uvit_l\",\n",
    "            \"ckpt_path='../data/models/diffusion/diff_l_exp/best.ckpt'\",\n",
    "        ])"
   ]
  },
  {
   "cell_type": "code",
   "execution_count": null,
   "id": "ebc6ee56-c0ef-4483-b35b-50d227642926",
   "metadata": {},
   "outputs": [],
   "source": [
    "model = instantiate(cfg.surrogate)\n",
    "_ = model.load_state_dict(torch.load(cfg.ckpt_path, map_location=device)[\"state_dict\"])\n",
    "model = model.to(device).eval()"
   ]
  },
  {
   "cell_type": "markdown",
   "id": "380a69aa-980c-4d74-a2fc-75414c51d964",
   "metadata": {},
   "source": [
    "# Evaluate loss"
   ]
  },
  {
   "cell_type": "code",
   "execution_count": null,
   "id": "dc317586-7127-4195-9a83-8d8fd8b64505",
   "metadata": {},
   "outputs": [],
   "source": [
    "@torch.no_grad\n",
    "def get_error(data, noise, gamma):\n",
    "    # Input data\n",
    "    state_in = data[\"state_traj\"][:, :-1].to(device)\n",
    "    forcing_in = data[\"forcing_traj\"].to(device)\n",
    "    in_tensor = torch.cat((\n",
    "        state_in.view(state_in.size(0), -1, *state_in.shape[-2:]),\n",
    "        forcing_in.view(forcing_in.size(0), -1, *forcing_in.shape[-2:])\n",
    "    ), dim=-3)\n",
    "\n",
    "    residual = (data[\"state_traj\"][:, -1] - data[\"state_traj\"][:, -2]).to(device)\n",
    "    residual = (residual - model.decoder.mean) / model.decoder.std\n",
    "\n",
    "    ## Diffuse model\n",
    "    alpha_sq = torch.sigmoid(gamma)\n",
    "    alpha = alpha_sq.sqrt()\n",
    "    sigma = (1-alpha_sq).sqrt()\n",
    "    noised_residual = alpha * residual + sigma * noise\n",
    "\n",
    "    ## Estimate prediction with diffusion model\n",
    "    encoded = model.encoder(in_tensor)\n",
    "    in_tensor = torch.cat(\n",
    "        (noised_residual, encoded), dim=1\n",
    "    )\n",
    "    normalized_gamma = normalize_gamma(\n",
    "        gamma, model.gamma_min, model.gamma_max\n",
    "    ).view(-1, 1)\n",
    "    prediction = model.network(\n",
    "        in_tensor,\n",
    "        normalized_gamma=normalized_gamma,\n",
    "        labels=data[\"labels\"].to(device),\n",
    "        mesh=data[\"mesh\"].to(device)\n",
    "    )\n",
    "\n",
    "    ## Estimate loss\n",
    "    error_diffusion = model.param.estimate_errors(\n",
    "        prediction,\n",
    "        in_data=noised_residual,\n",
    "        target=residual,\n",
    "        noise=noise,\n",
    "        alpha=alpha,\n",
    "        sigma=sigma,\n",
    "        gamma=gamma,\n",
    "    )\n",
    "    weighted_error = model.weighting(gamma) * error_diffusion\n",
    "    return weighted_error.cpu()"
   ]
  },
  {
   "cell_type": "code",
   "execution_count": null,
   "id": "e9fcc046-e98c-4dab-8299-94a9f5444b14",
   "metadata": {},
   "outputs": [],
   "source": [
    "noise = torch.randn(1024, 5, 64, 64, device=device)"
   ]
  },
  {
   "cell_type": "code",
   "execution_count": null,
   "id": "769d1e8f-9894-4cf3-9129-51b2aa91e7cc",
   "metadata": {},
   "outputs": [],
   "source": [
    "gamma_levels = torch.linspace(-20, 20, 101, device=device)"
   ]
  },
  {
   "cell_type": "code",
   "execution_count": null,
   "id": "12a8e221-d751-4d8b-a4eb-9938d9770859",
   "metadata": {},
   "outputs": [],
   "source": [
    "error_train = []\n",
    "for g in tqdm(gamma_levels):\n",
    "    curr_err = get_error(train_data, noise, g)\n",
    "    error_train.append(curr_err.mean(dim=(0, 2, 3)))\n",
    "error_train = torch.stack(error_train)"
   ]
  },
  {
   "cell_type": "code",
   "execution_count": null,
   "id": "498f2c86-4ad1-45de-bb76-950bfdcaa9e1",
   "metadata": {},
   "outputs": [],
   "source": [
    "error_val = []\n",
    "for g in tqdm(gamma_levels):\n",
    "    curr_err = get_error(val_data, noise, g)\n",
    "    error_val.append(curr_err.mean(dim=(0, 2, 3)))\n",
    "error_val = torch.stack(error_val)"
   ]
  },
  {
   "cell_type": "code",
   "execution_count": null,
   "id": "17dec6d9-0285-4501-9ed1-f74bf2ec3224",
   "metadata": {
    "tags": []
   },
   "outputs": [],
   "source": [
    "fig, ax = plt.subplots(figsize=(4, 2))\n",
    "ax.grid(alpha=0.5)\n",
    "plt_train_var = ax.plot(gamma_levels.cpu().numpy(), error_train.numpy(), c=\"C1\", ls=\"--\", label=\"Train variables\", lw=0.7, alpha=0.7)\n",
    "plt_train_mean, = ax.plot(gamma_levels.cpu().numpy(), error_train.mean(dim=1).numpy(), c=\"firebrick\", label=\"Train mean\")\n",
    "plt_val_var = ax.plot(gamma_levels.cpu().numpy(), error_val.numpy(), c=\"0.5\", ls=\"--\", label=\"Validation variables\", lw=0.7, alpha=0.7)\n",
    "plt_val_mean, = ax.plot(gamma_levels.cpu().numpy(), error_val.mean(dim=1).numpy(), c=\"black\", ls=\"-\", label=\"Validation mean\")\n",
    "ax.annotate(\n",
    "    \"Velocities\", xy=(0.62, 0.125), xytext=(0.7, 0.25),\n",
    "    xycoords=ax.transAxes,\n",
    "    arrowprops=dict(\n",
    "        facecolor='black', width=0.1, headwidth=3, headlength=3,\n",
    "        zorder=100\n",
    "    ),\n",
    "    bbox=dict(boxstyle='square,pad=0', fc='#ffffff99', ec='none')\n",
    ")\n",
    "ax.set_ylabel(\"Weighted error\")\n",
    "ax.set_ylim(0, 0.145)\n",
    "ax.set_xlabel(\"Log signal-to-noise ratio $\\lambda(\\\\tau)$\")\n",
    "ax.set_xlim(-20, 20)\n",
    "ax.legend(handles=[plt_train_var[0], plt_train_mean, plt_val_var[0], plt_val_mean], labels=[\"Train variable\", \"Train mean\", \"Val variable\", \"Val mean\"])\n",
    "fig.savefig(\"figures/fig_app_b4_diff_error.png\", dpi=300)"
   ]
  },
  {
   "cell_type": "code",
   "execution_count": null,
   "id": "9dd7166b-3a27-40f0-8757-c6aebdddf111",
   "metadata": {},
   "outputs": [],
   "source": []
  }
 ],
 "metadata": {
  "kernelspec": {
   "display_name": "diffusion_regional",
   "language": "python",
   "name": "diffusion_regional"
  },
  "language_info": {
   "codemirror_mode": {
    "name": "ipython",
    "version": 3
   },
   "file_extension": ".py",
   "mimetype": "text/x-python",
   "name": "python",
   "nbconvert_exporter": "python",
   "pygments_lexer": "ipython3",
   "version": "3.10.13"
  }
 },
 "nbformat": 4,
 "nbformat_minor": 5
}

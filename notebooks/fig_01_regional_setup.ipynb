{
 "cells": [
  {
   "cell_type": "code",
   "execution_count": null,
   "id": "40a9d1f9-1db9-4385-a740-bb1e5a8fc7c4",
   "metadata": {},
   "outputs": [],
   "source": [
    "import xarray as xr\n",
    "from numpy import ma\n",
    "\n",
    "import matplotlib.pyplot as plt\n",
    "import cartopy.crs as ccrs\n",
    "import cartopy\n",
    "import cmocean"
   ]
  },
  {
   "cell_type": "code",
   "execution_count": null,
   "id": "2f51522d-b01a-4ac2-b4e7-3f5e63539f69",
   "metadata": {},
   "outputs": [],
   "source": [
    "plt.style.use(\"paper\")\n",
    "plt.style.use(\"wiley\")"
   ]
  },
  {
   "cell_type": "code",
   "execution_count": null,
   "id": "982f7d06-1877-4cad-9ea4-7a178bd39dbe",
   "metadata": {},
   "outputs": [],
   "source": [
    "ds_aux = xr.open_dataset(\"../data/auxiliary/ds_auxiliary.nc\")"
   ]
  },
  {
   "cell_type": "code",
   "execution_count": null,
   "id": "25082b7b-c5c3-4920-b734-36bad19ed961",
   "metadata": {},
   "outputs": [],
   "source": [
    "fig, ax = plt.subplots(figsize=(3.5, 3.5), dpi=120, subplot_kw={\"projection\": ccrs.NorthPolarStereo()})\n",
    "ax.set_facecolor(cmocean.cm.ice(0.))\n",
    "ax.xaxis.set_visible(False)\n",
    "ax.yaxis.set_visible(False)\n",
    "ax.spines.left.set_visible(False)\n",
    "ax.spines.right.set_visible(False)\n",
    "ax.spines.bottom.set_visible(False)\n",
    "cf = ax.pcolormesh(\n",
    "    ds_aux[\"longitude\"], ds_aux[\"latitude\"],\n",
    "    ma.array(ds_aux[\"sit\"], mask=1-ds_aux[\"mask\"]),\n",
    "    cmap=\"cmo.ice\", shading='nearest',\n",
    "    vmin=0.001, vmax=3, transform=ccrs.PlateCarree()\n",
    ")\n",
    "\n",
    "lower_left = (267, 280)\n",
    "slices = (\n",
    "    [lower_left[0], lower_left[0], lower_left[0]+64, lower_left[0]+64, lower_left[0]],\n",
    "    [lower_left[1], lower_left[1]+64, lower_left[1]+64, lower_left[1], lower_left[1]]\n",
    ")\n",
    "xy = ccrs.NorthPolarStereo().transform_points(\n",
    "    ccrs.PlateCarree(), ds_aux[\"longitude\"].values[slices], ds_aux[\"latitude\"].values[slices]\n",
    ")\n",
    "\n",
    "ax.plot(\n",
    "    xy[:, 0], xy[:, 1],\n",
    "    c=\"firebrick\", lw=1., transform=ccrs.NorthPolarStereo(),\n",
    "    zorder=99\n",
    ")\n",
    "cbar = plt.colorbar(cf, fraction=0.046, pad=0.04)\n",
    "cbar.set_label(\"Sea-ice thickness (m)\")\n",
    "\n",
    "ax.set_extent([0, 360, 60, 90], ccrs.PlateCarree())\n",
    "ax.add_feature(cartopy.feature.LAND, fc=\"xkcd:putty\", zorder=98)\n",
    "fig.savefig(\"figures/fig_01_regional_setup.png\", dpi=300)"
   ]
  },
  {
   "cell_type": "code",
   "execution_count": null,
   "id": "486c17b6-9871-40d1-aec2-e430ed6fbafa",
   "metadata": {},
   "outputs": [],
   "source": []
  }
 ],
 "metadata": {
  "kernelspec": {
   "display_name": "diffusion_regional",
   "language": "python",
   "name": "diffusion_regional"
  },
  "language_info": {
   "codemirror_mode": {
    "name": "ipython",
    "version": 3
   },
   "file_extension": ".py",
   "mimetype": "text/x-python",
   "name": "python",
   "nbconvert_exporter": "python",
   "pygments_lexer": "ipython3",
   "version": "3.10.13"
  }
 },
 "nbformat": 4,
 "nbformat_minor": 5
}

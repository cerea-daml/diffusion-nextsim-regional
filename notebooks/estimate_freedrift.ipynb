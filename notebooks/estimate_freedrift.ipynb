{
 "cells": [
  {
   "cell_type": "code",
   "execution_count": null,
   "id": "2932b6f3-1e3e-478f-aa6e-032cddda160b",
   "metadata": {
    "tags": []
   },
   "outputs": [],
   "source": [
    "import numpy as np\n",
    "import torch\n",
    "import xarray as xr\n",
    "import pandas as pd\n",
    "from distributed import LocalCluster, Client\n",
    "import wandb\n",
    "\n",
    "from diffusion_nextsim.data.utils import get_mesh, estimate_rot2curv, rotate_uv2curv\n",
    "from diffusion_nextsim.freedrift import OnlyAtmosphereModule, SeaIceVelocityModule, FreedriftModel"
   ]
  },
  {
   "cell_type": "code",
   "execution_count": null,
   "id": "ebe280e1-55a5-44a7-8762-bdedce570329",
   "metadata": {},
   "outputs": [],
   "source": [
    "cluster = LocalCluster(n_workers=32)\n",
    "client = Client(cluster)\n",
    "client"
   ]
  },
  {
   "cell_type": "markdown",
   "id": "0dcbd97d-dbea-447b-8b1e-31aa38dc9e4b",
   "metadata": {},
   "source": [
    "# Load data"
   ]
  },
  {
   "cell_type": "code",
   "execution_count": null,
   "id": "0663bdc3-a5c9-4b3b-88c3-a587946e4aa0",
   "metadata": {},
   "outputs": [],
   "source": [
    "ds_test = xr.open_zarr(\"../data/nextsim/test_regional.zarr\")\n",
    "ds_aux = xr.open_dataset(\"../data/auxiliary/ds_auxiliary_regional.nc\")"
   ]
  },
  {
   "cell_type": "code",
   "execution_count": null,
   "id": "d13f9095-f3f1-4e74-8d59-d229f1b638ce",
   "metadata": {},
   "outputs": [],
   "source": [
    "ds_rolled = ds_test.rolling(time=61).construct(\"lead_time\").isel(lead_time=slice(None, None, 2))\n",
    "ds_rolled = ds_rolled.dropna(\"time\")\n",
    "ds_rolled = ds_rolled.transpose(\"time\", \"lead_time\", ..., \"y\", \"x\")"
   ]
  },
  {
   "cell_type": "code",
   "execution_count": null,
   "id": "462a9bc2-c996-4cd9-b9e2-7553b1734fb4",
   "metadata": {},
   "outputs": [],
   "source": [
    "initial = ds_rolled[\"state_data\"].isel(lead_time=0)"
   ]
  },
  {
   "cell_type": "code",
   "execution_count": null,
   "id": "f5ecb71b-46f7-40a5-8221-1c569a1f4d37",
   "metadata": {},
   "outputs": [],
   "source": [
    "mesh = get_mesh(ds_aux, length_scale=1.)"
   ]
  },
  {
   "cell_type": "code",
   "execution_count": null,
   "id": "46daf624-4872-4dae-a556-04582328d0e7",
   "metadata": {},
   "outputs": [],
   "source": [
    "wind_forcing = ds_rolled[\"forcing_data\"][:, :, 2:]\n",
    "wind_forcing = xr.concat(rotate_uv2curv(wind_forcing[:, :, 0], wind_forcing[:, :, 1], *estimate_rot2curv(ds_aux)), dim=\"var_names\")\n",
    "wind_forcing = wind_forcing.transpose(\"time\", \"lead_time\", \"var_names\", \"y\", \"x\")"
   ]
  },
  {
   "cell_type": "code",
   "execution_count": null,
   "id": "c6577f9e-f0d3-4eb9-8a3a-ec96426aeb28",
   "metadata": {},
   "outputs": [],
   "source": [
    "ice_velocity = ds_rolled[\"state_data\"][:, :, 3:].rename({\"var_names_1\": \"var_names\"})\n",
    "ice_velocity = ice_velocity.transpose(\"time\", \"lead_time\", \"var_names\", \"y\", \"x\")"
   ]
  },
  {
   "cell_type": "markdown",
   "id": "449b205a-57ac-4b38-bbc4-c0cc13bc06df",
   "metadata": {},
   "source": [
    "# Define looping and logging function"
   ]
  },
  {
   "cell_type": "code",
   "execution_count": null,
   "id": "4068a3f3-2bfb-4724-b5b4-4d193b16086f",
   "metadata": {},
   "outputs": [],
   "source": [
    "def looping_func(state, forcing, mesh, model):\n",
    "    predictions = [state]\n",
    "    curr_state = torch.from_numpy(np.copy(state)).float()\n",
    "    curr_forcing = torch.from_numpy(np.copy(forcing)).float()\n",
    "    mesh = torch.from_numpy(mesh).float()\n",
    "    for k in range(curr_forcing.size(0)-1):\n",
    "        with torch.no_grad():\n",
    "            curr_state = model(curr_state, curr_forcing[k:k+2], mesh)\n",
    "            # Post-processing\n",
    "            correction = curr_state[1].clamp(min=0, max=1)/(curr_state[1].clamp(min=0)+1E-7)\n",
    "            curr_state[0] = (curr_state[0] * correction).clamp(min=0)\n",
    "            curr_state[1] = curr_state[1].clamp(min=0, max=1)\n",
    "            curr_state[2] = (curr_state[2] * correction).clamp(min=0, max=1)\n",
    "            curr_state[3:] = model.velocity_module(curr_forcing[k+1])\n",
    "        predictions.append(curr_state.numpy())\n",
    "    return np.stack(predictions, axis=0)"
   ]
  },
  {
   "cell_type": "code",
   "execution_count": null,
   "id": "564d2526-28a7-4b1e-ba2e-150dbd13c70e",
   "metadata": {},
   "outputs": [],
   "source": [
    "def log_experiment(model, forcing, exp_name):\n",
    "    # initialize wandb\n",
    "    run = wandb.init(\n",
    "        dir=\"/tmp/wandb\",\n",
    "        project=\"test_diffusion_nextsim_regional\",\n",
    "        entity=\"tobifinn\",\n",
    "        name=exp_name\n",
    "    )\n",
    "\n",
    "    # get lazy prediction\n",
    "    prediction = xr.apply_ufunc(\n",
    "        looping_func,\n",
    "        initial,\n",
    "        forcing,\n",
    "        input_core_dims=[[\"var_names_1\", \"y\", \"x\"], [\"lead_time\", \"var_names\", \"y\", \"x\"]],\n",
    "        output_core_dims=[[\"lead_time\", \"var_names_1\", \"y\", \"x\"]],\n",
    "        vectorize=True,\n",
    "        dask=\"parallelized\",\n",
    "        output_dtypes=[float],\n",
    "        kwargs={\"mesh\": mesh, \"model\": model},\n",
    "        dask_gufunc_kwargs={\"allow_rechunk\": True}\n",
    "    ).persist()\n",
    "\n",
    "    # estimate errors    \n",
    "    error = prediction-ds_rolled[\"state_data\"]\n",
    "\n",
    "    mae = np.abs(error).mean([\"time\", \"y\", \"x\"])\n",
    "    mae = mae.compute().to_pandas()\n",
    "    rmse = np.sqrt((error**2).mean([\"time\", \"y\", \"x\"]))\n",
    "    rmse = rmse.compute().to_pandas()\n",
    "    mae.columns = [f\"mae_{c:s}\" for c in rmse.columns]\n",
    "    rmse.columns = [f\"rmse_{c:s}\" for c in rmse.columns]\n",
    "\n",
    "    scores = pd.concat((rmse, mae), axis=1)\n",
    "    scores['iterations'] = scores.index\n",
    "\n",
    "    # log errors\n",
    "    wb_scores = wandb.Table(dataframe=scores)\n",
    "    run.log({\"test/scores\": wb_scores})\n",
    "    run.finish()"
   ]
  },
  {
   "cell_type": "markdown",
   "id": "24554ee6-f7d8-483a-bca6-40adf0a8a246",
   "metadata": {},
   "source": [
    "# Run experiments"
   ]
  },
  {
   "cell_type": "code",
   "execution_count": null,
   "id": "2075cafd-6185-4ecb-bab0-01e0f5a53a76",
   "metadata": {},
   "outputs": [],
   "source": [
    "model = FreedriftModel(OnlyAtmosphereModule(), dt_model=1200, dt_forcing=12*3600, interp_mode=\"nearest\")\n",
    "log_experiment(model, wind_forcing, \"freedrift_nearest\")"
   ]
  },
  {
   "cell_type": "code",
   "execution_count": null,
   "id": "86987b37-74aa-4851-a87a-3e154626bfbc",
   "metadata": {},
   "outputs": [],
   "source": [
    "model = FreedriftModel(OnlyAtmosphereModule(), dt_model=1200, dt_forcing=12*3600, interp_mode=\"linear\")\n",
    "log_experiment(model, wind_forcing, \"freedrift_linear\")"
   ]
  },
  {
   "cell_type": "code",
   "execution_count": null,
   "id": "b2f9d2f8-5f48-4c36-9e7d-d51afdc4a9f0",
   "metadata": {},
   "outputs": [],
   "source": [
    "model = FreedriftModel(OnlyAtmosphereModule(), dt_model=1200, dt_forcing=12*3600, interp_mode=\"cubic\")\n",
    "log_experiment(model, wind_forcing, \"freedrift_cubic\")"
   ]
  },
  {
   "cell_type": "code",
   "execution_count": null,
   "id": "9c56533f-e941-4117-a55d-1e075966c397",
   "metadata": {},
   "outputs": [],
   "source": [
    "model = FreedriftModel(SeaIceVelocityModule(), dt_model=1200, dt_forcing=12*3600, interp_mode=\"linear\")\n",
    "log_experiment(model, ice_velocity, \"freedrift_perfect\")"
   ]
  },
  {
   "cell_type": "code",
   "execution_count": null,
   "id": "41160d6d-59a8-4a39-84e8-dfc561456065",
   "metadata": {},
   "outputs": [],
   "source": [
    "model = FreedriftModel(SeaIceVelocityModule(), dt_model=1200, dt_forcing=12*3600, interp_mode=\"cubic\")\n",
    "log_experiment(model, ice_velocity, \"freedrift_perfect_cubic\")"
   ]
  },
  {
   "cell_type": "code",
   "execution_count": null,
   "id": "0dde01a8-4015-4eb1-8980-6d4272ac9456",
   "metadata": {},
   "outputs": [],
   "source": []
  }
 ],
 "metadata": {
  "kernelspec": {
   "display_name": "diffusion_regional",
   "language": "python",
   "name": "diffusion_regional"
  },
  "language_info": {
   "codemirror_mode": {
    "name": "ipython",
    "version": 3
   },
   "file_extension": ".py",
   "mimetype": "text/x-python",
   "name": "python",
   "nbconvert_exporter": "python",
   "pygments_lexer": "ipython3",
   "version": "3.10.13"
  }
 },
 "nbformat": 4,
 "nbformat_minor": 5
}

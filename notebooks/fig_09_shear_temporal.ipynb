{
 "cells": [
  {
   "cell_type": "code",
   "execution_count": null,
   "id": "1238537e-7950-4292-ad71-d340452fc7ca",
   "metadata": {},
   "outputs": [],
   "source": [
    "import xarray as xr\n",
    "import numpy as np\n",
    "import pandas as pd\n",
    "\n",
    "from diffusion_nextsim.deformation import estimate_deform\n",
    "\n",
    "import matplotlib.pyplot as plt\n",
    "import matplotlib.colors as mpl_c\n",
    "import matplotlib.gridspec as mpl_gs\n",
    "import matplotlib.dates as mpl_dates\n",
    "import cartopy.crs as ccrs\n",
    "import cartopy\n",
    "import cmocean"
   ]
  },
  {
   "cell_type": "code",
   "execution_count": null,
   "id": "0bd6f4ef-f274-4fe9-8307-0133fb4c131c",
   "metadata": {},
   "outputs": [],
   "source": [
    "plt.style.use(\"paper\")\n",
    "plt.style.use(\"egu_journals\")"
   ]
  },
  {
   "cell_type": "code",
   "execution_count": null,
   "id": "2f0b2697-6543-43ce-889d-7daa66eab45e",
   "metadata": {},
   "outputs": [],
   "source": [
    "ds_nextsim = xr.open_dataset(\"data/consistency_nextsim.nc\")\n",
    "ds_deterministic = xr.open_dataset(\"data/consistency_deterministic.nc\")\n",
    "ds_diffusion = xr.open_dataset(\"data/consistency_diffusion.nc\")"
   ]
  },
  {
   "cell_type": "code",
   "execution_count": null,
   "id": "dc9a93fd-2eb9-4fd3-a362-91f78dccce74",
   "metadata": {},
   "outputs": [],
   "source": [
    "deform_nextsim = (estimate_deform(ds_nextsim) * 86400).compute()\n",
    "deform_deterministic = (estimate_deform(ds_deterministic) * 86400).compute()\n",
    "deform_diffusion = (estimate_deform(ds_diffusion) * 86400).compute()"
   ]
  },
  {
   "cell_type": "code",
   "execution_count": null,
   "id": "b15e755d-e055-4d89-8f4e-e061e18ab272",
   "metadata": {},
   "outputs": [],
   "source": [
    "deform_nextsim = deform_nextsim[\"deform_shear\"].quantile(q=0.9, dim=[\"x\", \"y\"])\n",
    "deform_deterministic = deform_deterministic[\"deform_shear\"].quantile(q=0.9, dim=[\"x\", \"y\"])\n",
    "deform_diffusion = deform_diffusion[\"deform_shear\"].quantile(q=0.9, dim=[\"ens\", \"x\", \"y\"])"
   ]
  },
  {
   "cell_type": "code",
   "execution_count": null,
   "id": "c6baf670-1cbb-4067-ad29-24b4ff454349",
   "metadata": {},
   "outputs": [],
   "source": [
    "fig, ax = plt.subplots(figsize=(4, 1.5))\n",
    "ax.grid()\n",
    "ax.plot(deform_nextsim.time, deform_nextsim, c=\"black\", lw=0.75, label=\"neXtSIM\")\n",
    "ax.plot(deform_nextsim.time, deform_deterministic, c=\"#81B3D5\", ls=\"--\", lw=0.75, label=\"Deterministic\")\n",
    "ax.plot(deform_nextsim.time, deform_diffusion, c=\"#9E62A6\", lw=0.75, label=\"ResDiffusion\")\n",
    "\n",
    "ax.xaxis.set_major_locator(mpl_dates.DayLocator(interval=7))\n",
    "ax.xaxis.set_major_formatter(mpl_dates.DateFormatter('%d.%b'))\n",
    "for label in ax.get_xticklabels(which='major'):\n",
    "    label.set(rotation=30, horizontalalignment='right')\n",
    "ax.set_xlim(pd.Timestamp(\"2017-11-10\"), pd.Timestamp(\"2017-12-31\"))\n",
    "ax.set_ylabel(r\"Shear P90 $(\\mathsf{day}^{-1})$\")\n",
    "ax.set_ylim(0, 0.33)\n",
    "ax.legend(framealpha=1, ncol=2, loc=9, bbox_to_anchor=(0.4, 1.1))\n",
    "fig.savefig(\"figures/fig_09_shear_temporal.png\", dpi=300)"
   ]
  },
  {
   "cell_type": "code",
   "execution_count": null,
   "id": "8f6606aa-dfe5-4690-a204-1f4f6fb35638",
   "metadata": {},
   "outputs": [],
   "source": []
  }
 ],
 "metadata": {
  "kernelspec": {
   "display_name": "diffusion_regional",
   "language": "python",
   "name": "diffusion_regional"
  },
  "language_info": {
   "codemirror_mode": {
    "name": "ipython",
    "version": 3
   },
   "file_extension": ".py",
   "mimetype": "text/x-python",
   "name": "python",
   "nbconvert_exporter": "python",
   "pygments_lexer": "ipython3",
   "version": "3.10.13"
  }
 },
 "nbformat": 4,
 "nbformat_minor": 5
}

{
 "cells": [
  {
   "cell_type": "code",
   "execution_count": null,
   "id": "8b772086-e8a2-49d2-a857-c3d7abb713cf",
   "metadata": {},
   "outputs": [],
   "source": [
    "import wandb\n",
    "import numpy as np\n",
    "import pandas as pd\n",
    "\n",
    "import matplotlib.pyplot as plt"
   ]
  },
  {
   "cell_type": "code",
   "execution_count": null,
   "id": "5727a58c-41e5-478f-974c-f5302f33d7f6",
   "metadata": {},
   "outputs": [],
   "source": [
    "plt.style.use(\"paper\")\n",
    "plt.style.use(\"wiley\")"
   ]
  },
  {
   "cell_type": "code",
   "execution_count": null,
   "id": "3cf660d1-0ded-45fb-974b-f4def26a0435",
   "metadata": {},
   "outputs": [],
   "source": [
    "api = wandb.Api()"
   ]
  },
  {
   "cell_type": "code",
   "execution_count": null,
   "id": "6b8c875e-5e28-4809-b859-30e8f9a7eebc",
   "metadata": {},
   "outputs": [],
   "source": [
    "runs = api.runs(\n",
    "    \"tobifinn/test_diffusion_nextsim_regional\",\n",
    "    filters={\n",
    "        \"$or\": [\n",
    "            {\"display_name\": \"deterministic\"},\n",
    "            {\"display_name\": \"det_wo_damage\"},\n",
    "        ]\n",
    "    }\n",
    ")"
   ]
  },
  {
   "cell_type": "code",
   "execution_count": null,
   "id": "3fdabb31-4fe0-46ae-8b97-92589ca7569b",
   "metadata": {},
   "outputs": [],
   "source": [
    "std = np.array([0.7506, 0.1848, 0.1968, 0.0836, 0.0878])"
   ]
  },
  {
   "cell_type": "code",
   "execution_count": null,
   "id": "1abe6f27-9f08-4a37-9f3a-f535307ad6b3",
   "metadata": {},
   "outputs": [],
   "source": [
    "results = {}\n",
    "\n",
    "for run in runs:\n",
    "    try:\n",
    "        table = [artifact for artifact in run.logged_artifacts() if artifact.type == 'run_table'][0]\n",
    "        table = table.get(\"test/scores.table.json\")\n",
    "        results[run.name] = pd.DataFrame(table.data, columns=table.columns)[[\"rmse_sit\", \"rmse_sic\", \"rmse_siu\", \"rmse_siv\"]]\n",
    "        \n",
    "    except IndexError:\n",
    "        pass"
   ]
  },
  {
   "cell_type": "code",
   "execution_count": null,
   "id": "286d9b03-09c0-4fb9-934d-524ec48c468b",
   "metadata": {},
   "outputs": [],
   "source": [
    "fig, ax = plt.subplots(nrows=2, figsize=(4, 3), dpi=150)\n",
    "ax[0].grid(True)\n",
    "ax[0].plot(\n",
    "    results[\"deterministic\"].index/2,\n",
    "    results[\"deterministic\"][\"rmse_sit\"],\n",
    "    ls=\"-\", c=\"#81B3D5\", alpha=1.,\n",
    "    label=\"Deterministic\"\n",
    ")\n",
    "ax[0].plot(\n",
    "    results[\"deterministic\"].index/2,\n",
    "    results[\"det_wo_damage\"][\"rmse_sit\"],\n",
    "    c=\"black\", alpha=1., ls=\"--\",\n",
    "    label=\"W/o damage\"\n",
    ")\n",
    "ax[0].text(0.02, 0.98, \"(a)\", ha=\"left\", va=\"top\", transform=ax[0].transAxes)\n",
    "\n",
    "ax[1].grid(True)\n",
    "ax[1].plot(\n",
    "    results[\"deterministic\"].index/2,\n",
    "    results[\"deterministic\"][\"rmse_siu\"],\n",
    "    ls=\"-\", c=\"#81B3D5\", alpha=1.,\n",
    "    label=\"Deterministic\"\n",
    ")\n",
    "ax[1].plot(\n",
    "    results[\"deterministic\"].index/2,\n",
    "    results[\"det_wo_damage\"][\"rmse_siu\"],\n",
    "    c=\"black\", alpha=1., ls=\"--\",\n",
    "    label=\"W/o damage\"\n",
    ")\n",
    "ax[1].text(0.02, 0.98, \"(b)\", ha=\"left\", va=\"top\", transform=ax[1].transAxes)\n",
    "\n",
    "\n",
    "ax[0].set_xlim(0, 15)\n",
    "ax[0].set_xticklabels([])\n",
    "ax[1].set_xlim(0, 15)\n",
    "ax[1].set_xlabel(\"Lead time (days)\")\n",
    "\n",
    "ax[0].set_ylim(0, 0.35)\n",
    "ax[0].set_ylabel(\"RMSE SIT (m)\")\n",
    "\n",
    "ax[1].set_ylim(0, 0.035)\n",
    "ax[1].set_ylabel(\"RMSE SIU (m/s)\")\n",
    "\n",
    "ax[0].legend()\n",
    "\n",
    "fig.subplots_adjust(hspace=0.1)\n",
    "fig.align_ylabels(ax)\n",
    "fig.savefig(\"figures/fig_app_b2_damage_rmse.png\", dpi=300)"
   ]
  },
  {
   "cell_type": "code",
   "execution_count": null,
   "id": "d73f7e87-f81a-4415-a25e-8d57e27251e3",
   "metadata": {},
   "outputs": [],
   "source": []
  }
 ],
 "metadata": {
  "kernelspec": {
   "display_name": "diffusion_regional",
   "language": "python",
   "name": "diffusion_regional"
  },
  "language_info": {
   "codemirror_mode": {
    "name": "ipython",
    "version": 3
   },
   "file_extension": ".py",
   "mimetype": "text/x-python",
   "name": "python",
   "nbconvert_exporter": "python",
   "pygments_lexer": "ipython3",
   "version": "3.10.13"
  }
 },
 "nbformat": 4,
 "nbformat_minor": 5
}

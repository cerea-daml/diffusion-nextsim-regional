{
 "cells": [
  {
   "cell_type": "code",
   "execution_count": null,
   "id": "b3ee03b8-a3b7-41a6-91fe-c9803b7deaf6",
   "metadata": {},
   "outputs": [],
   "source": [
    "from copy import deepcopy\n",
    "import logging\n",
    "\n",
    "logging.basicConfig(level=logging.WARNING)\n",
    "\n",
    "import numpy as np\n",
    "import pandas as pd\n",
    "\n",
    "import torch\n",
    "from torch.utils.data import DataLoader\n",
    "import lightning.pytorch as pl\n",
    "\n",
    "from tqdm.notebook import tqdm\n",
    "\n",
    "from hydra import compose, initialize\n",
    "from hydra.utils import instantiate\n",
    "\n",
    "from diffusion_nextsim.data import TrajectoryDataset\n",
    "from diffusion_nextsim.decoder import StochasticDecoder, FFTSampler\n",
    "from diffusion_nextsim.utils import estimate_crps_ens, get_fft_stats, estimate_spectrum\n",
    "\n",
    "import matplotlib.pyplot as plt"
   ]
  },
  {
   "cell_type": "code",
   "execution_count": null,
   "id": "e4bc4b61-b7d0-4900-9c62-f5d16e37064f",
   "metadata": {},
   "outputs": [],
   "source": [
    "device = torch.device(\"cuda\")\n",
    "\n",
    "plt.style.use(\"paper\")\n",
    "plt.style.use(\"wiley\")"
   ]
  },
  {
   "cell_type": "markdown",
   "id": "a78920dc-fd63-46a7-a25c-1e18ad5e9279",
   "metadata": {},
   "source": [
    "# Load model"
   ]
  },
  {
   "cell_type": "code",
   "execution_count": null,
   "id": "c7654fc3-9884-4dc5-928e-73b00a0c84ed",
   "metadata": {},
   "outputs": [],
   "source": [
    "with initialize(version_base=None, config_path=\"../configs\", job_name=\"predict_surrogate\"):\n",
    "    cfg = compose(\n",
    "        config_name=\"surrogate_test.yaml\",\n",
    "        overrides=[\n",
    "            \"+experiments/deterministic=deterministic\",\n",
    "            \"+computer=laputa\",\n",
    "            \"network.n_embedding=64\",\n",
    "            \"ckpt_path='../data/models/deterministic/deterministic/best.ckpt'\",\n",
    "        ])"
   ]
  },
  {
   "cell_type": "code",
   "execution_count": null,
   "id": "5ab4470e-e2a0-4d91-981d-0be6a39ffa6d",
   "metadata": {},
   "outputs": [],
   "source": [
    "model = instantiate(cfg.surrogate)\n",
    "model = type(model).load_from_checkpoint(\n",
    "    cfg.ckpt_path, map_location=device,\n",
    ").eval()"
   ]
  },
  {
   "cell_type": "markdown",
   "id": "2003b73a-2d65-46ab-8e0c-92abb90f3e6a",
   "metadata": {},
   "source": [
    "# Load data"
   ]
  },
  {
   "cell_type": "code",
   "execution_count": null,
   "id": "eeecd58e-81a9-4bdd-9f9f-dcaa02ff80a5",
   "metadata": {},
   "outputs": [],
   "source": [
    "dataset = TrajectoryDataset(\n",
    "    \"../data/nextsim/validation_regional.zarr\",\n",
    "    \"../data/auxiliary/ds_auxiliary_regional.nc\",\n",
    "    n_cycles=2\n",
    ")"
   ]
  },
  {
   "cell_type": "code",
   "execution_count": null,
   "id": "65f4b560-073e-403a-8de4-305f363cc6e2",
   "metadata": {},
   "outputs": [],
   "source": [
    "dataloader = DataLoader(dataset, batch_size=64, shuffle=False, num_workers=16, pin_memory=True)\n",
    "data = [b for b in iter(dataloader)]"
   ]
  },
  {
   "cell_type": "markdown",
   "id": "8ec8f36b-1806-4230-9701-933787acafc1",
   "metadata": {},
   "source": [
    "# Cycle the model to get initial residuals"
   ]
  },
  {
   "cell_type": "code",
   "execution_count": null,
   "id": "c90dbc21-50a3-436b-80e6-0fffee9331aa",
   "metadata": {},
   "outputs": [],
   "source": [
    "residuals = []\n",
    "\n",
    "for batch in tqdm(data, total=len(data)):\n",
    "    states = batch[\"state_traj\"][:, 0].to(device)\n",
    "    forcings = batch[\"forcing_traj\"][:, :2].to(device)\n",
    "    in_tensor = torch.cat((\n",
    "        states.reshape(states.size(0), -1, *states.shape[-2:]),\n",
    "        forcings.reshape(forcings.size(0), -1, *forcings.shape[-2:]),\n",
    "    ), dim=-3)\n",
    "    labels = torch.zeros(\n",
    "        states.size(0), 3, dtype=states.dtype, device=states.device\n",
    "    )\n",
    "    mask = batch[\"mask\"].to(device)\n",
    "    mesh = batch[\"mesh\"].to(device)\n",
    "\n",
    "    with torch.no_grad():\n",
    "        encoded = model.encoder(in_tensor)\n",
    "        prediction = model.network(encoded, labels=labels)\n",
    "        prediction = model.decoder.to_prediction(prediction, states)\n",
    "    residuals.append(batch[\"state_traj\"][:, 1]-prediction.cpu())\n",
    "residuals = torch.cat(residuals, dim=0)"
   ]
  },
  {
   "cell_type": "markdown",
   "id": "e68ac744-6add-4d71-8028-78323692af8d",
   "metadata": {},
   "source": [
    "# Get cross-covariance"
   ]
  },
  {
   "cell_type": "code",
   "execution_count": null,
   "id": "171cffc6-5228-4458-a1c9-59634ac78a2c",
   "metadata": {},
   "outputs": [],
   "source": [
    "res_perts = residuals.swapdims(0, 1).reshape(5, -1)\n",
    "res_perts = res_perts-res_perts.mean(dim=1, keepdims=True)\n",
    "cross_cov = (res_perts@res_perts.T)/(res_perts.size(1) - 1)\n",
    "res_std = cross_cov.diagonal().sqrt()\n",
    "cross_corr = cross_cov / res_std[:, None]/ res_std[None, :]"
   ]
  },
  {
   "cell_type": "code",
   "execution_count": null,
   "id": "3c4b7d1e-ba24-4382-b2a0-1f581f7aa0e9",
   "metadata": {},
   "outputs": [],
   "source": [
    "modelled_corr = torch.eye(5)\n",
    "modelled_corr[1, 0] = modelled_corr[0, 1] = 0.57\n",
    "modelled_corr[0, 2] = modelled_corr[2, 0] = -0.05\n",
    "modelled_corr[3, 4] = modelled_corr[4, 3] = -0.06\n",
    "\n",
    "modelled_std = res_std * torch.tensor([1.05, 1.35, 1.1, 1.02, 1.02])\n",
    "modelled_cov = modelled_corr * modelled_std[:, None] * modelled_std[None, :]"
   ]
  },
  {
   "cell_type": "markdown",
   "id": "37dfb7f2-57fe-4aaa-ba95-a0aab078cff9",
   "metadata": {},
   "source": [
    "## Print in nice latex"
   ]
  },
  {
   "cell_type": "code",
   "execution_count": null,
   "id": "bbabf1f6-d6dc-419a-947c-d277e72f5965",
   "metadata": {},
   "outputs": [],
   "source": [
    "indexes = [\"SIT\", \"SIC\", \"SID\", \"SIU\", \"SIV\"]"
   ]
  },
  {
   "cell_type": "code",
   "execution_count": null,
   "id": "afb8f8a8-ce4d-45bf-9b1a-8e50f497ab3e",
   "metadata": {},
   "outputs": [],
   "source": [
    "estimated_latex = pd.DataFrame(cross_corr.numpy(), index=indexes, columns=indexes)\n",
    "estimated_latex = pd.concat((estimated_latex, pd.Series(res_std.numpy(), index=indexes).to_frame(\"$\\sigma$\")), axis=1).T\n",
    "print(estimated_latex.round(2).to_latex(float_format=\"%.2f\"))"
   ]
  },
  {
   "cell_type": "code",
   "execution_count": null,
   "id": "3647fc00-83d1-441c-81c7-2f51ee339bd6",
   "metadata": {},
   "outputs": [],
   "source": [
    "sampling_latex = pd.DataFrame(modelled_corr.numpy(), index=indexes, columns=indexes)\n",
    "sampling_latex = pd.concat((sampling_latex, pd.Series(modelled_std.numpy(), index=indexes).to_frame(\"$\\sigma$\")), axis=1).T\n",
    "print(sampling_latex.round(2).to_latex(float_format=\"%.2f\"))"
   ]
  },
  {
   "cell_type": "markdown",
   "id": "da8ded04-dc16-4728-8e7f-89017073585a",
   "metadata": {},
   "source": [
    "# Define and decompose FFT"
   ]
  },
  {
   "cell_type": "code",
   "execution_count": null,
   "id": "0c982286-7b7f-4829-9c8c-9dfb1b7c2e61",
   "metadata": {},
   "outputs": [],
   "source": [
    "res_fft = torch.fft.fft2(residuals).mean(dim=0)\n",
    "\n",
    "# To decompose the image into periodic and static\n",
    "# Based on https://github.com/jacobkimmel/ps_decomp\n",
    "res_avg = torch.fft.ifft2(res_fft).real\n",
    "res_mean = res_avg.mean(dim=(-2, -1), keepdims=True)\n",
    "res_avg = res_avg-res_mean\n",
    "\n",
    "res_fft = torch.fft.fft2(res_avg)\n",
    "\n",
    "# V component\n",
    "res_v = torch.zeros(5, 64, 64)\n",
    "res_v[:, 0, :] = res_avg[:, -1, :]-res_avg[:, 0, :]\n",
    "res_v[:, -1, :] = res_avg[:, 0, :]-res_avg[:, -1, :]\n",
    "res_v[:, :, 0] = res_avg[:, :, -1]-res_avg[:, :, 0]\n",
    "res_v[:, :, -1] = res_avg[:, :, 0]-res_avg[:, :, -1]\n",
    "res_v_fft = torch.fft.fft2(res_v)\n",
    "\n",
    "# smooth component\n",
    "q = torch.arange(64)[:, None]\n",
    "r = torch.arange(64)[None, :]\n",
    "den = 2 * torch.cos(2*torch.pi*q/64) + 2 * torch.cos(2*torch.pi*r/64) - 4\n",
    "s = torch.where(den != 0, res_v_fft / den, 0.)\n",
    "s[0, 0] = 0.\n",
    "res_smooth = torch.fft.ifft2(s).real\n",
    "res_periodic_fft = res_fft-s"
   ]
  },
  {
   "cell_type": "code",
   "execution_count": null,
   "id": "c002659e-21d2-49c2-b799-abc7d907385b",
   "metadata": {},
   "outputs": [],
   "source": [
    "fft_shift = res_smooth + res_mean"
   ]
  },
  {
   "cell_type": "markdown",
   "id": "60cb3d69-56a8-420a-8982-161ffda6d7c0",
   "metadata": {},
   "source": [
    "## Plot FFTs"
   ]
  },
  {
   "cell_type": "code",
   "execution_count": null,
   "id": "6325cbed-e635-4373-9ed2-9be989fd8876",
   "metadata": {},
   "outputs": [],
   "source": [
    "fig, ax = plt.subplots(ncols=3, nrows=2, figsize=(5, 5*2/3), dpi=150)\n",
    "\n",
    "for axi in ax:\n",
    "    for axij in axi:\n",
    "        axij.set_facecolor(\"white\")\n",
    "        axij.xaxis.set_visible(False)\n",
    "        axij.set_yticks([])\n",
    "        axij.spines.left.set_visible(False)\n",
    "        axij.spines.right.set_visible(False)\n",
    "        axij.spines.bottom.set_visible(False)\n",
    "\n",
    "ax[0, 0].pcolormesh(\n",
    "    np.arange(65), np.arange(65), res_fft[0].numpy(), cmap=\"coolwarm\"\n",
    ")\n",
    "ax[0, 0].text(0.02, 0.98, \"(a) SIT\", ha=\"left\", va=\"top\", transform=ax[0, 0].transAxes)\n",
    "ax[0, 1].pcolormesh(\n",
    "    np.arange(65), np.arange(65), res_fft[1].numpy(), cmap=\"coolwarm\"\n",
    ")\n",
    "ax[0, 1].text(0.02, 0.98, \"(b) SIC\", ha=\"left\", va=\"top\", transform=ax[0, 1].transAxes)\n",
    "ax[0, 2].pcolormesh(\n",
    "    np.arange(65), np.arange(65), res_fft[2].numpy(), cmap=\"coolwarm\"\n",
    ")\n",
    "ax[0, 2].text(0.02, 0.98, \"(c) SID\", ha=\"left\", va=\"top\", transform=ax[0, 2].transAxes)\n",
    "ax[1, 0].pcolormesh(\n",
    "    np.arange(65), np.arange(65), res_fft[3].numpy(), cmap=\"coolwarm\"\n",
    ")\n",
    "ax[1, 0].text(0.02, 0.98, \"(d) SIU\", ha=\"left\", va=\"top\", transform=ax[1, 0].transAxes)\n",
    "ax[1, 1].pcolormesh(\n",
    "    np.arange(65), np.arange(65), res_fft[4].numpy(), cmap=\"coolwarm\"\n",
    ")\n",
    "ax[1, 1].text(0.02, 0.98, \"(e) SIV\", ha=\"left\", va=\"top\", transform=ax[1, 1].transAxes)\n",
    "fig.delaxes(ax[1, 2])\n",
    "fig.savefig(\"figures/fig_app_a1_stoch_fields.png\")"
   ]
  },
  {
   "cell_type": "markdown",
   "id": "e18961a9-8901-4103-9a03-f9e73b88b3ed",
   "metadata": {},
   "source": [
    "# Write decoder into checkpoint"
   ]
  },
  {
   "cell_type": "code",
   "execution_count": null,
   "id": "5cc91de7-bcfe-47c0-be7d-f35bb754843e",
   "metadata": {},
   "outputs": [],
   "source": [
    "decoder = StochasticDecoder(\n",
    "    FFTSampler(res_periodic_fft, fft_shift, modelled_cov),\n",
    "    cfg.decoder.mean, cfg.decoder.std, cfg.decoder.lower_bound, cfg.decoder.upper_bound\n",
    ")"
   ]
  },
  {
   "cell_type": "code",
   "execution_count": null,
   "id": "a68cf6e1-34d4-49b1-b559-a9937af090db",
   "metadata": {
    "tags": []
   },
   "outputs": [],
   "source": [
    "stochastic_ckpt = torch.load(\"../data/models/deterministic/deterministic/best.ckpt\", map_location=\"cpu\")\n",
    "decoder_keys = [k for k in stochastic_ckpt[\"state_dict\"].keys() if k.startswith(\"decoder\")]\n",
    "for k in decoder_keys:\n",
    "    del stochastic_ckpt[\"state_dict\"][k]\n",
    "\n",
    "for k, v in decoder.state_dict().items():\n",
    "    stochastic_ckpt[\"state_dict\"][f\"decoder.{k:s}\"] = v\n",
    "\n",
    "torch.save(stochastic_ckpt, \"../data/models/deterministic/deterministic/stochastic.ckpt\")"
   ]
  }
 ],
 "metadata": {
  "kernelspec": {
   "display_name": "diffusion_regional",
   "language": "python",
   "name": "diffusion_regional"
  },
  "language_info": {
   "codemirror_mode": {
    "name": "ipython",
    "version": 3
   },
   "file_extension": ".py",
   "mimetype": "text/x-python",
   "name": "python",
   "nbconvert_exporter": "python",
   "pygments_lexer": "ipython3",
   "version": "3.10.13"
  }
 },
 "nbformat": 4,
 "nbformat_minor": 5
}

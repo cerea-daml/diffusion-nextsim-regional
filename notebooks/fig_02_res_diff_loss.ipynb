{
 "cells": [
  {
   "cell_type": "code",
   "execution_count": null,
   "id": "0e5c244f-e6eb-498d-8fa1-459dbb169fcf",
   "metadata": {},
   "outputs": [],
   "source": [
    "import wandb\n",
    "import numpy as np\n",
    "import pandas as pd\n",
    "import torch\n",
    "\n",
    "from tqdm.autonotebook import tqdm\n",
    "\n",
    "import matplotlib.pyplot as plt\n",
    "import matplotlib.colors as mpl_c\n",
    "import cartopy.crs as ccrs\n",
    "import cartopy\n",
    "import cmocean"
   ]
  },
  {
   "cell_type": "code",
   "execution_count": null,
   "id": "d03e9869-c324-4c06-810e-b61c479559ee",
   "metadata": {},
   "outputs": [],
   "source": [
    "plt.style.use(\"paper\")\n",
    "plt.style.use(\"wiley\")"
   ]
  },
  {
   "cell_type": "code",
   "execution_count": null,
   "id": "aad6cf00-9015-4d2a-aca2-e6a350720682",
   "metadata": {},
   "outputs": [],
   "source": [
    "api = wandb.Api()"
   ]
  },
  {
   "cell_type": "code",
   "execution_count": null,
   "id": "f2bdaf47-c905-460b-b774-858ba32f30df",
   "metadata": {},
   "outputs": [],
   "source": [
    "det_run = api.run(\n",
    "    \"tobifinn/train_diffusion_nextsim_regional/abk97702\"\n",
    ")"
   ]
  },
  {
   "cell_type": "code",
   "execution_count": null,
   "id": "0295c459-191d-4278-812d-14be65336db8",
   "metadata": {},
   "outputs": [],
   "source": [
    "diff_runs = api.runs(\n",
    "    \"tobifinn/train_diffusion_nextsim_regional\",\n",
    "    filters={\n",
    "        \"display_name\": \"diff_l_exp\"\n",
    "    }\n",
    ")"
   ]
  },
  {
   "cell_type": "code",
   "execution_count": null,
   "id": "40c55526-688e-4dae-a254-57606154cbc2",
   "metadata": {},
   "outputs": [],
   "source": [
    "resdiff_runs = api.runs(\n",
    "    \"tobifinn/train_diffusion_nextsim_regional\",\n",
    "    filters={\n",
    "        \"display_name\": \"resdiff_l_exp\"\n",
    "    }\n",
    ")"
   ]
  },
  {
   "cell_type": "code",
   "execution_count": null,
   "id": "bbbfb094-9b9c-497c-a987-93c4519c626e",
   "metadata": {},
   "outputs": [],
   "source": [
    "std = np.array([0.7506, 0.1848, 0.1968, 0.0836, 0.0878])\n",
    "var = std**2"
   ]
  },
  {
   "cell_type": "code",
   "execution_count": null,
   "id": "758bf6fe-52ab-4d16-9d0e-e61f02c97088",
   "metadata": {},
   "outputs": [],
   "source": [
    "det_scores = det_run.scan_history(\n",
    "    page_size=100000,\n",
    "    keys=[\"scores/mse_sit\", \"scores/mse_sic\", \"scores/mse_damage\", \"scores/mse_siu\", \"scores/mse_siv\", \"trainer/global_step\"]\n",
    ")\n",
    "det_nrmse = pd.Series(\n",
    "    [\n",
    "        np.sqrt(((r[\"scores/mse_sit\"]/var[0]+r[\"scores/mse_sic\"]/var[1]+r[\"scores/mse_damage\"]/var[2]+r[\"scores/mse_siu\"]/var[3]+r[\"scores/mse_siv\"]/var[4])/5))\n",
    "        for r in det_scores\n",
    "    ],\n",
    "    index=[r[\"trainer/global_step\"] for r in det_scores],\n",
    ")"
   ]
  },
  {
   "cell_type": "code",
   "execution_count": null,
   "id": "387b7590-bc6c-40f7-9542-492605b7a4d9",
   "metadata": {},
   "outputs": [],
   "source": [
    "diff_nrmse = None\n",
    "for r in tqdm(diff_runs):\n",
    "    curr_scores = r.scan_history(\n",
    "        page_size=100000,\n",
    "        keys=[\"scores/mse_sit\", \"scores/mse_sic\", \"scores/mse_damage\", \"scores/mse_siu\", \"scores/mse_siv\", \"trainer/global_step\"]\n",
    "    )\n",
    "    curr_nrmse = pd.Series(\n",
    "        [\n",
    "            np.sqrt(((r[\"scores/mse_sit\"]/var[0]+r[\"scores/mse_sic\"]/var[1]+r[\"scores/mse_damage\"]/var[2]+r[\"scores/mse_siu\"]/var[3]+r[\"scores/mse_siv\"]/var[4])/5))\n",
    "            for r in curr_scores\n",
    "        ],\n",
    "        index=[r[\"trainer/global_step\"] for r in curr_scores],\n",
    "    )\n",
    "    if diff_nrmse is None:\n",
    "        diff_nrmse = curr_nrmse\n",
    "    else:\n",
    "        diff_nrmse = pd.concat((diff_nrmse, curr_nrmse))\n",
    "diff_nrmse = diff_nrmse.sort_index()"
   ]
  },
  {
   "cell_type": "code",
   "execution_count": null,
   "id": "ea3ea6a6-d329-4872-b7ea-f06201d29abf",
   "metadata": {},
   "outputs": [],
   "source": [
    "resdiff_nrmse = None\n",
    "for r in tqdm(resdiff_runs):\n",
    "    curr_scores = r.scan_history(\n",
    "        page_size=100000,\n",
    "        keys=[\"scores/mse_sit\", \"scores/mse_sic\", \"scores/mse_damage\", \"scores/mse_siu\", \"scores/mse_siv\", \"trainer/global_step\"]\n",
    "    )\n",
    "    curr_nrmse = pd.Series(\n",
    "        [\n",
    "            np.sqrt(((r[\"scores/mse_sit\"]/var[0]+r[\"scores/mse_sic\"]/var[1]+r[\"scores/mse_damage\"]/var[2]+r[\"scores/mse_siu\"]/var[3]+r[\"scores/mse_siv\"]/var[4])/5))\n",
    "            for r in curr_scores\n",
    "        ],\n",
    "        index=[r[\"trainer/global_step\"] for r in curr_scores],\n",
    "    )\n",
    "    if diff_nrmse is None:\n",
    "        resdiff_nrmse = curr_nrmse\n",
    "    else:\n",
    "        resdiff_nrmse = pd.concat((resdiff_nrmse, curr_nrmse))\n",
    "resdiff_nrmse = resdiff_nrmse.sort_index()"
   ]
  },
  {
   "cell_type": "code",
   "execution_count": null,
   "id": "816b7d56-3532-472e-bbe0-2a657c5fe526",
   "metadata": {},
   "outputs": [],
   "source": [
    "resdiff_nrmse = resdiff_nrmse.drop(resdiff_nrmse.index[43])"
   ]
  },
  {
   "cell_type": "code",
   "execution_count": null,
   "id": "9d5d1b55-662d-4516-bcf6-6adc0c0fdade",
   "metadata": {},
   "outputs": [],
   "source": [
    "it_det = torch.load(\"../data/models/deterministic/deterministic/best.ckpt\", map_location=\"cpu\")[\"global_step\"]\n",
    "it_diff = torch.load(\"../data/models/diffusion/diff_l_exp/best.ckpt\", map_location=\"cpu\")[\"global_step\"]\n",
    "it_resdiff = torch.load(\"../data/models/diffusion/resdiff_l_exp/best.ckpt\", map_location=\"cpu\")[\"global_step\"]"
   ]
  },
  {
   "cell_type": "code",
   "execution_count": null,
   "id": "cf2d6da9-89e6-41aa-b8ed-8f69039bbf40",
   "metadata": {},
   "outputs": [],
   "source": [
    "fig, ax = plt.subplots(figsize=(3, 1.5), dpi=300)\n",
    "ax.grid(ls=\"dotted\", lw=0.5)\n",
    "ax.plot(\n",
    "    det_nrmse.index/1E5, det_nrmse,\n",
    "    c=\"#81B3D5\", label=\"Deterministic\"\n",
    ")\n",
    "ax.scatter(it_det/1E5, det_nrmse.reindex(index=[it_det], method=\"nearest\"), fc=\"yellow\", ec=\"#81B3D5\", s=10, marker=\"o\", lw=0.5, zorder=99)\n",
    "\n",
    "ax.plot(\n",
    "    diff_nrmse.index/1E5, diff_nrmse,\n",
    "    ls=\"-\", c=\"#A56262\", alpha=1., label=\"Diffusion\"\n",
    ")\n",
    "ax.scatter(it_diff/1E5, diff_nrmse.reindex(index=[it_diff], method=\"nearest\"), fc=\"yellow\", ec=\"#A56262\", s=10, marker=\"o\", lw=0.5, zorder=99)\n",
    "\n",
    "ax.plot(\n",
    "    resdiff_nrmse.index/1E5, resdiff_nrmse,\n",
    "    c=\"#9E62A6\", alpha=1.,\n",
    "    label=\"ResDiffusion\", ls=\"--\"\n",
    ")\n",
    "ax.scatter(it_resdiff/1E5, resdiff_nrmse.reindex(index=[it_resdiff], method=\"nearest\"), fc=\"yellow\", ec=\"#9E62A6\", s=10, marker=\"o\", lw=0.5, zorder=99)\n",
    "\n",
    "ax.set_ylabel(\"nRMSE\")\n",
    "ax.set_xlabel(r\"Iterations $\\times 10^5$\")\n",
    "\n",
    "ax.legend(framealpha=1, loc=1, bbox_to_anchor=(1., 1.))\n",
    "ax.set_ylim(0.13, 0.18)\n",
    "ax.set_yticks([0.13, 0.14, 0.15, 0.16, 0.17])\n",
    "ax.set_xlim(0, 5.05)\n",
    "fig.savefig(\"figures/fig_02_res_diff_loss.png\", dpi=300)"
   ]
  },
  {
   "cell_type": "code",
   "execution_count": null,
   "id": "7fd897fd-20e5-4718-a2c1-a743207a9abe",
   "metadata": {},
   "outputs": [],
   "source": []
  }
 ],
 "metadata": {
  "kernelspec": {
   "display_name": "diffusion_regional",
   "language": "python",
   "name": "diffusion_regional"
  },
  "language_info": {
   "codemirror_mode": {
    "name": "ipython",
    "version": 3
   },
   "file_extension": ".py",
   "mimetype": "text/x-python",
   "name": "python",
   "nbconvert_exporter": "python",
   "pygments_lexer": "ipython3",
   "version": "3.10.13"
  }
 },
 "nbformat": 4,
 "nbformat_minor": 5
}

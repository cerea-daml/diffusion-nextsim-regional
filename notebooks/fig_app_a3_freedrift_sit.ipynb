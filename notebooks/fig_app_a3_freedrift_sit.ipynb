{
 "cells": [
  {
   "cell_type": "code",
   "execution_count": null,
   "id": "80db2906-a571-40eb-ab5d-018708ded339",
   "metadata": {},
   "outputs": [],
   "source": [
    "import wandb\n",
    "import numpy as np\n",
    "import pandas as pd\n",
    "\n",
    "import matplotlib.pyplot as plt"
   ]
  },
  {
   "cell_type": "code",
   "execution_count": null,
   "id": "dad25e0b-378c-433c-baff-70f56399be13",
   "metadata": {},
   "outputs": [],
   "source": [
    "plt.style.use(\"paper\")\n",
    "plt.style.use(\"wiley\")"
   ]
  },
  {
   "cell_type": "code",
   "execution_count": null,
   "id": "6689d5b5-5e90-447f-81d9-384ee58a2c70",
   "metadata": {},
   "outputs": [],
   "source": [
    "api = wandb.Api()"
   ]
  },
  {
   "cell_type": "code",
   "execution_count": null,
   "id": "8c034efd-6570-406a-a2a5-34913cc1034c",
   "metadata": {},
   "outputs": [],
   "source": [
    "runs = api.runs(\n",
    "    \"tobifinn/test_diffusion_nextsim_regional\",\n",
    "    filters={\n",
    "        \"tags\": \"freedrift\"\n",
    "    }\n",
    ")"
   ]
  },
  {
   "cell_type": "code",
   "execution_count": null,
   "id": "a7a01166-0295-4620-84fa-99c23c474d5a",
   "metadata": {},
   "outputs": [],
   "source": [
    "results = pd.DataFrame()\n",
    "\n",
    "for run in runs:\n",
    "    table = [artifact for artifact in run.logged_artifacts() if artifact.type == 'run_table'][0]\n",
    "    table = table.get(\"test/scores.table.json\")\n",
    "    table = pd.DataFrame(table.data, columns=table.columns)\n",
    "    results[run.name] = table[\"rmse_sit\"]"
   ]
  },
  {
   "cell_type": "code",
   "execution_count": null,
   "id": "499650a0-c6af-421e-9644-e233645da8c6",
   "metadata": {},
   "outputs": [],
   "source": [
    "det_run = api.run(\n",
    "    \"tobifinn/test_diffusion_nextsim_regional/ri3q51mi\"\n",
    ")\n",
    "det_table = [artifact for artifact in det_run.logged_artifacts() if artifact.type == 'run_table'][0]\n",
    "det_table = det_table.get(\"test/scores.table.json\")\n",
    "det_table = pd.DataFrame(det_table.data, columns=det_table.columns)"
   ]
  },
  {
   "cell_type": "code",
   "execution_count": null,
   "id": "22809855-c7f8-4bf6-94b3-bdbd2c819604",
   "metadata": {},
   "outputs": [],
   "source": [
    "fig, ax = plt.subplots(figsize=(3, 2), dpi=300)\n",
    "ax.grid()\n",
    "ax.plot(np.arange(31)/2, results[\"freedrift_nearest\"], c=\"#DCA189\", ls=\"dashed\", label=\"Nearest\")\n",
    "ax.plot(np.arange(31)/2, results[\"freedrift_linear\"], c=\"#FF7A45\", ls=\"-.\", label=\"Linear\")\n",
    "ax.plot(np.arange(31)/2, results[\"freedrift_cubic\"], c=\"#AB7A67\", ls=\"dotted\", label=\"Cubic\")\n",
    "ax.plot(np.arange(31)/2, results[\"freedrift_perfect\"], c=\"black\", ls=\"-\", label=\"Perfect linear\")\n",
    "ax.plot(np.arange(31)/2, det_table[\"rmse_sit\"], ls=\"-\", c=\"#81B3D5\", alpha=1., label=\"Deterministic\")\n",
    "ax.legend(framealpha=1, fancybox=False, ncol=2, loc=8, bbox_to_anchor=(0.5, 0.85))\n",
    "ax.set_xlim(0, 15)\n",
    "ax.set_xlabel(\"Lead time (days)\")\n",
    "ax.set_ylim(0, 0.5)\n",
    "ax.set_ylabel(\"RMSE SIT (m)\")\n",
    "fig.savefig(\"figures/fig_app_a3_freedrift_sit.png\", dpi=300)"
   ]
  },
  {
   "cell_type": "code",
   "execution_count": null,
   "id": "c95e21f8-5a43-407b-892e-22b6f750d023",
   "metadata": {},
   "outputs": [],
   "source": []
  }
 ],
 "metadata": {
  "kernelspec": {
   "display_name": "diffusion_regional",
   "language": "python",
   "name": "diffusion_regional"
  },
  "language_info": {
   "codemirror_mode": {
    "name": "ipython",
    "version": 3
   },
   "file_extension": ".py",
   "mimetype": "text/x-python",
   "name": "python",
   "nbconvert_exporter": "python",
   "pygments_lexer": "ipython3",
   "version": "3.10.13"
  }
 },
 "nbformat": 4,
 "nbformat_minor": 5
}

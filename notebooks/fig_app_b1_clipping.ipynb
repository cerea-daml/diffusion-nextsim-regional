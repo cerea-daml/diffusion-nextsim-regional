{
 "cells": [
  {
   "cell_type": "code",
   "execution_count": null,
   "id": "2b0036c5-05d2-4dc9-bf2b-e6b942367db3",
   "metadata": {},
   "outputs": [],
   "source": [
    "import wandb\n",
    "import numpy as np\n",
    "import pandas as pd\n",
    "\n",
    "import matplotlib.pyplot as plt"
   ]
  },
  {
   "cell_type": "code",
   "execution_count": null,
   "id": "73071156-2724-4b03-8254-e18adb037932",
   "metadata": {},
   "outputs": [],
   "source": [
    "plt.style.use(\"paper\")\n",
    "plt.style.use(\"wiley\")"
   ]
  },
  {
   "cell_type": "code",
   "execution_count": null,
   "id": "6de4e8c7-c784-423c-b500-c3255eb4e196",
   "metadata": {},
   "outputs": [],
   "source": [
    "api = wandb.Api()"
   ]
  },
  {
   "cell_type": "code",
   "execution_count": null,
   "id": "8a290ea7-d363-49a1-a2f5-408bbc3c05ad",
   "metadata": {},
   "outputs": [],
   "source": [
    "runs = api.runs(\n",
    "    \"tobifinn/test_diffusion_nextsim_regional\",\n",
    "    filters={\n",
    "        \"$or\": [\n",
    "            {\"display_name\": \"deterministic\"},\n",
    "            {\"display_name\": \"det_no_clipping\"},\n",
    "            {\"display_name\": \"diffusion_best_loss_single\"},\n",
    "            {\"display_name\": \"diff_l_exp_single_best_no_clipping\"},\n",
    "        ]\n",
    "    }\n",
    ")"
   ]
  },
  {
   "cell_type": "code",
   "execution_count": null,
   "id": "b7f4fba7-17d5-4a6e-a0ab-a8d9a3abd04e",
   "metadata": {},
   "outputs": [],
   "source": [
    "std = np.array([0.7506, 0.1848, 0.1968, 0.0836, 0.0878])"
   ]
  },
  {
   "cell_type": "code",
   "execution_count": null,
   "id": "283d6498-2f37-42dc-815f-d2f1d5e17eed",
   "metadata": {},
   "outputs": [],
   "source": [
    "results = {}\n",
    "\n",
    "for run in runs:\n",
    "    try:\n",
    "        table = [artifact for artifact in run.logged_artifacts() if artifact.type == 'run_table'][0]\n",
    "        table = table.get(\"test/scores.table.json\")\n",
    "        table = pd.DataFrame(table.data, columns=table.columns)\n",
    "        table = table[[\"rmse_sit\", \"rmse_sic\", \"rmse_damage\", \"rmse_siu\", \"rmse_siv\"]]\n",
    "        table[\"nrmse\"] = np.sqrt(((table[[\"rmse_sit\", \"rmse_sic\", \"rmse_damage\", \"rmse_siu\", \"rmse_siv\"]]**2)/std**2).mean(axis=1))\n",
    "        results[run.name] = table\n",
    "    except IndexError:\n",
    "        pass"
   ]
  },
  {
   "cell_type": "code",
   "execution_count": null,
   "id": "7034ac39-1db7-48ed-8b70-cdd9350def3a",
   "metadata": {},
   "outputs": [],
   "source": [
    "fig, ax = plt.subplots(figsize=(4, 2.5), dpi=150)\n",
    "ax.grid(which=\"both\")\n",
    "ax.semilogy(\n",
    "    results[\"deterministic\"].index/2,\n",
    "    results[\"deterministic\"][\"nrmse\"],\n",
    "    ls=\"-\", c=\"#81B3D5\", alpha=1.,\n",
    "    label=\"Deterministic\"\n",
    ")\n",
    "ax.plot(\n",
    "    results[\"det_no_clipping\"].index/2,\n",
    "    results[\"det_no_clipping\"][\"nrmse\"],\n",
    "    c=\"#81B3D5\", alpha=1.,\n",
    "    label=\"Deterministic w/o clip\", ls=\"--\", marker=\"x\"\n",
    ")\n",
    "ax.plot(\n",
    "    results[\"diffusion_best_loss_single\"].index/2,\n",
    "    results[\"diffusion_best_loss_single\"][\"nrmse\"],\n",
    "    ls=\"-\", c=\"#A56262\", alpha=1.,\n",
    "    label=\"Diffusion\"\n",
    ")\n",
    "ax.plot(\n",
    "    results[\"diff_l_exp_single_best_no_clipping\"].index/2,\n",
    "    results[\"diff_l_exp_single_best_no_clipping\"][\"nrmse\"],\n",
    "    c=\"#A56262\", alpha=1.,\n",
    "    label=\"Diffusion w/o clip\", ls=\"--\", marker=\"+\"\n",
    ")\n",
    "\n",
    "ax.set_xlim(0, 15)\n",
    "ax.set_xlabel(\"Lead time (days)\")\n",
    "\n",
    "#ax.set_ylim(0, 1.5)\n",
    "ax.set_ylabel(\"nRMSE\")\n",
    "\n",
    "ax.legend(framealpha=1)\n",
    "fig.savefig(\"figures/fig_app_b1_clipping.png\", dpi=300)"
   ]
  },
  {
   "cell_type": "code",
   "execution_count": null,
   "id": "27a3bc75-acf7-4a62-b271-b61a2722f436",
   "metadata": {},
   "outputs": [],
   "source": []
  }
 ],
 "metadata": {
  "kernelspec": {
   "display_name": "diffusion_regional",
   "language": "python",
   "name": "diffusion_regional"
  },
  "language_info": {
   "codemirror_mode": {
    "name": "ipython",
    "version": 3
   },
   "file_extension": ".py",
   "mimetype": "text/x-python",
   "name": "python",
   "nbconvert_exporter": "python",
   "pygments_lexer": "ipython3",
   "version": "3.10.13"
  }
 },
 "nbformat": 4,
 "nbformat_minor": 5
}

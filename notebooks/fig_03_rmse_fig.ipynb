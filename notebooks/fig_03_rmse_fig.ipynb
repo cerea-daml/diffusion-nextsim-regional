{
 "cells": [
  {
   "cell_type": "code",
   "execution_count": null,
   "id": "8b772086-e8a2-49d2-a857-c3d7abb713cf",
   "metadata": {},
   "outputs": [],
   "source": [
    "import wandb\n",
    "import numpy as np\n",
    "import pandas as pd\n",
    "\n",
    "import matplotlib.pyplot as plt"
   ]
  },
  {
   "cell_type": "code",
   "execution_count": null,
   "id": "5727a58c-41e5-478f-974c-f5302f33d7f6",
   "metadata": {},
   "outputs": [],
   "source": [
    "plt.style.use(\"paper\")\n",
    "plt.style.use(\"wiley\")"
   ]
  },
  {
   "cell_type": "code",
   "execution_count": null,
   "id": "3cf660d1-0ded-45fb-974b-f4def26a0435",
   "metadata": {},
   "outputs": [],
   "source": [
    "api = wandb.Api()"
   ]
  },
  {
   "cell_type": "code",
   "execution_count": null,
   "id": "6b8c875e-5e28-4809-b859-30e8f9a7eebc",
   "metadata": {},
   "outputs": [],
   "source": [
    "runs = api.runs(\n",
    "    \"tobifinn/test_diffusion_nextsim_regional\",\n",
    "    filters={\n",
    "        \"tags\": \"errors\"\n",
    "    }\n",
    ")"
   ]
  },
  {
   "cell_type": "code",
   "execution_count": null,
   "id": "3fdabb31-4fe0-46ae-8b97-92589ca7569b",
   "metadata": {},
   "outputs": [],
   "source": [
    "std = np.array([0.7506, 0.1848, 0.1968, 0.0836, 0.0878])"
   ]
  },
  {
   "cell_type": "code",
   "execution_count": null,
   "id": "1abe6f27-9f08-4a37-9f3a-f535307ad6b3",
   "metadata": {},
   "outputs": [],
   "source": [
    "results = pd.DataFrame()\n",
    "\n",
    "for run in runs:\n",
    "    try:\n",
    "        table = [artifact for artifact in run.logged_artifacts() if artifact.type == 'run_table'][0]\n",
    "        table = table.get(\"test/scores.table.json\")\n",
    "        table = pd.DataFrame(table.data, columns=table.columns)\n",
    "        results[run.name] = np.sqrt(((table[[\"rmse_sit\", \"rmse_sic\", \"rmse_damage\", \"rmse_siu\", \"rmse_siv\"]]**2)/std**2).mean(axis=1))\n",
    "    except IndexError:\n",
    "        pass"
   ]
  },
  {
   "cell_type": "code",
   "execution_count": null,
   "id": "286d9b03-09c0-4fb9-934d-524ec48c468b",
   "metadata": {},
   "outputs": [],
   "source": [
    "fig, ax = plt.subplots(figsize=(3.5, 2), dpi=150)\n",
    "ax.grid(ls=\"dotted\", lw=0.5, c=\"0.5\", alpha=0.5, zorder=1)\n",
    "ax.plot(\n",
    "    results.index/2,\n",
    "    results[\"deterministic\"],\n",
    "    ls=\"-\", c=\"#81B3D5\", alpha=1.,\n",
    "    label=\"Deterministic\"\n",
    ")\n",
    "ax.plot(\n",
    "    results.index/2,\n",
    "    results[\"stochastic_ensemble\"],\n",
    "    ls=\"--\", c=\"#D6D683\", alpha=1.,\n",
    "    label=\"Stochastic\"\n",
    ")\n",
    "ax.plot(\n",
    "    results.index/2,\n",
    "    results[\"diffusion_best_loss_ensemble\"],\n",
    "    ls=\"-\", c=\"#A56262\", alpha=1.,\n",
    "    label=\"Diffusion\"\n",
    ")\n",
    "ax.plot(\n",
    "    results.index/2,\n",
    "    results[\"resdiff_l_best_loss_ensemble\"],\n",
    "    c=\"#9E62A6\", alpha=1.,\n",
    "    label=\"ResDiffusion\", ls=\"--\"\n",
    ")\n",
    "\n",
    "ax.set_xlim(0, 15)\n",
    "ax.set_xlabel(\"Lead time (days)\")\n",
    "\n",
    "ax.set_ylim(0, 0.55)\n",
    "ax.set_ylabel(\"nRMSE\")\n",
    "\n",
    "ax.legend()\n",
    "fig.savefig(\"figures/fig_03_nrmse.png\", dpi=300)"
   ]
  },
  {
   "cell_type": "code",
   "execution_count": null,
   "id": "d73f7e87-f81a-4415-a25e-8d57e27251e3",
   "metadata": {},
   "outputs": [],
   "source": []
  }
 ],
 "metadata": {
  "kernelspec": {
   "display_name": "diffusion_regional",
   "language": "python",
   "name": "diffusion_regional"
  },
  "language_info": {
   "codemirror_mode": {
    "name": "ipython",
    "version": 3
   },
   "file_extension": ".py",
   "mimetype": "text/x-python",
   "name": "python",
   "nbconvert_exporter": "python",
   "pygments_lexer": "ipython3",
   "version": "3.10.13"
  }
 },
 "nbformat": 4,
 "nbformat_minor": 5
}

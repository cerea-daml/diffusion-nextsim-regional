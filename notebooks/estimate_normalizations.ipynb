{
 "cells": [
  {
   "cell_type": "code",
   "execution_count": null,
   "id": "80a4ba97-6b99-442d-8bd4-be7ff141156f",
   "metadata": {},
   "outputs": [],
   "source": [
    "import xarray as xr\n",
    "import numpy as np\n",
    "\n",
    "from distributed import LocalCluster, Client"
   ]
  },
  {
   "cell_type": "code",
   "execution_count": null,
   "id": "bd6532d6-8221-47aa-a946-53117631d0ec",
   "metadata": {
    "tags": []
   },
   "outputs": [],
   "source": [
    "cluster = LocalCluster(n_workers=32)\n",
    "client = Client(cluster)\n",
    "client"
   ]
  },
  {
   "cell_type": "code",
   "execution_count": null,
   "id": "439ddad1-bf05-4286-903d-952534246680",
   "metadata": {},
   "outputs": [],
   "source": [
    "ds_train = xr.open_zarr(\"../data/nextsim/train_regional.zarr\")"
   ]
  },
  {
   "cell_type": "markdown",
   "id": "57920143-b2d2-402f-9819-65a78453cbf0",
   "metadata": {},
   "source": [
    "# Encoder"
   ]
  },
  {
   "cell_type": "code",
   "execution_count": null,
   "id": "9929b179-df65-4a9c-82a0-db626b15f141",
   "metadata": {},
   "outputs": [],
   "source": [
    "mean = ds_train.mean([\"time\", \"x\", \"y\"]).compute()\n",
    "std = ds_train.std([\"time\", \"x\", \"y\"]).compute()"
   ]
  },
  {
   "cell_type": "code",
   "execution_count": null,
   "id": "bbd9479d-b65d-48d6-b760-2e1000c777e8",
   "metadata": {},
   "outputs": [],
   "source": [
    "print(\n",
    "    \"[\" + \", \".join([f\"{s:.4f}\" for s in mean[\"state_data\"].values])\n",
    "    + \", \" + \", \".join([f\"{s:.4f}\" for s in mean[\"forcing_data\"].values])\n",
    "    + \", \" + \", \".join([f\"{s:.4f}\" for s in mean[\"forcing_data\"].values]) + \"]\"\n",
    ")"
   ]
  },
  {
   "cell_type": "code",
   "execution_count": null,
   "id": "963fb706-8eea-4129-87bd-40465b9001b9",
   "metadata": {},
   "outputs": [],
   "source": [
    "print(\n",
    "    \"[\" + \", \".join([f\"{s:.4f}\" for s in std[\"state_data\"].values])\n",
    "    + \", \" + \", \".join([f\"{s:.4f}\" for s in std[\"forcing_data\"].values])\n",
    "    + \", \" + \", \".join([f\"{s:.4f}\" for s in std[\"forcing_data\"].values]) + \"]\"\n",
    ")"
   ]
  },
  {
   "cell_type": "markdown",
   "id": "8598f2f0-9f95-4027-b6be-3537ea64148b",
   "metadata": {},
   "source": [
    "# Decoder"
   ]
  },
  {
   "cell_type": "code",
   "execution_count": null,
   "id": "c365fb2d-07c9-4d45-8451-4355560009f1",
   "metadata": {},
   "outputs": [],
   "source": [
    "dynamics = ds_train[\"state_data\"].shift(time=-2, )-ds_train[\"state_data\"]"
   ]
  },
  {
   "cell_type": "code",
   "execution_count": null,
   "id": "2f44f3c9-554c-4463-a824-0d452fa9e8c7",
   "metadata": {},
   "outputs": [],
   "source": [
    "mean = dynamics.mean([\"time\", \"x\", \"y\"]).compute()\n",
    "std = dynamics.std([\"time\", \"x\", \"y\"]).compute()"
   ]
  },
  {
   "cell_type": "code",
   "execution_count": null,
   "id": "48887662-b511-4863-9b8b-9ca420937ab6",
   "metadata": {},
   "outputs": [],
   "source": [
    "print(\n",
    "    \"[\" + \", \".join([f\"{s:.4f}\" for s in mean.values]) + \"]\"\n",
    ")"
   ]
  },
  {
   "cell_type": "code",
   "execution_count": null,
   "id": "b931fe17-ae43-4655-9f10-f4310b5d2c1d",
   "metadata": {},
   "outputs": [],
   "source": [
    "print(\n",
    "    \"[\" + \", \".join([f\"{s:.4f}\" for s in std.values]) + \"]\"\n",
    ")"
   ]
  }
 ],
 "metadata": {
  "kernelspec": {
   "display_name": "diffusion_regional",
   "language": "python",
   "name": "diffusion_regional"
  },
  "language_info": {
   "codemirror_mode": {
    "name": "ipython",
    "version": 3
   },
   "file_extension": ".py",
   "mimetype": "text/x-python",
   "name": "python",
   "nbconvert_exporter": "python",
   "pygments_lexer": "ipython3",
   "version": "3.10.13"
  }
 },
 "nbformat": 4,
 "nbformat_minor": 5
}

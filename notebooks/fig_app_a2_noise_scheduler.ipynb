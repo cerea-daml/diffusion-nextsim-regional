{
 "cells": [
  {
   "cell_type": "code",
   "execution_count": null,
   "id": "fe1d4af1-9cb0-4354-b2fd-d079523d6b50",
   "metadata": {
    "tags": []
   },
   "outputs": [],
   "source": [
    "import torch\n",
    "from ddm_dynamical.scheduler import BinarizedScheduler, EDMSamplingScheduler\n",
    "\n",
    "import matplotlib.pyplot as plt"
   ]
  },
  {
   "cell_type": "code",
   "execution_count": null,
   "id": "b4b61cf0-aec3-4070-ba56-09ae3a3c8e8b",
   "metadata": {
    "tags": []
   },
   "outputs": [],
   "source": [
    "plt.style.use(\"paper\")\n",
    "plt.style.use(\"wiley\")"
   ]
  },
  {
   "cell_type": "code",
   "execution_count": null,
   "id": "bba7c118-e1ce-4550-a1e7-309eba27c0bc",
   "metadata": {
    "tags": []
   },
   "outputs": [],
   "source": [
    "ckpt = torch.load(\"../data/models/diffusion/diff_l_exp/best.ckpt\", map_location=\"cpu\")"
   ]
  },
  {
   "cell_type": "code",
   "execution_count": null,
   "id": "e3d8eed2-363c-43cf-b5c2-e9ea7fe5471f",
   "metadata": {
    "tags": []
   },
   "outputs": [],
   "source": [
    "train_scheduler = BinarizedScheduler(gamma_min=-20, gamma_max=20)\n",
    "test_scheduler = EDMSamplingScheduler(gamma_min=-10, gamma_max=15)"
   ]
  },
  {
   "cell_type": "code",
   "execution_count": null,
   "id": "75d08cc9-1c7b-4b0b-99af-0c44419fb56c",
   "metadata": {
    "tags": []
   },
   "outputs": [],
   "source": [
    "train_scheduler._bin_times = ckpt[\"state_dict\"][\"scheduler._bin_times\"]\n",
    "train_scheduler.bin_values = ckpt[\"state_dict\"][\"scheduler.bin_values\"]\n",
    "train_scheduler.bin_limits = ckpt[\"state_dict\"][\"scheduler.bin_limits\"]"
   ]
  },
  {
   "cell_type": "code",
   "execution_count": null,
   "id": "1099e1df-3ae0-4c05-a620-3b6323c5df0e",
   "metadata": {
    "tags": []
   },
   "outputs": [],
   "source": [
    "time_range = torch.linspace(0, 1, 1001)\n",
    "sample_range = torch.linspace(0, 1, 21)\n",
    "with torch.no_grad():\n",
    "    train_gamma = train_scheduler(time_range)\n",
    "    test_gamma = test_scheduler(time_range)\n",
    "    sample_gamma = test_scheduler(sample_range)"
   ]
  },
  {
   "cell_type": "code",
   "execution_count": null,
   "id": "c02792c0-7bd1-424d-b3d7-60f9f962a067",
   "metadata": {
    "tags": []
   },
   "outputs": [],
   "source": [
    "fig, ax = plt.subplots(figsize=(3, 2))\n",
    "ax.grid(ls=\"dotted\", lw=0.5, alpha=0.5)\n",
    "ax.plot(time_range, train_gamma, label=\"Adaptive train scheduler\", c=\"#89CAFF\", ls=\"--\", zorder=99)\n",
    "ax.plot(time_range, test_gamma, label=\"EDM sampling scheduler\", c=\"#FF5A54\", zorder=99)\n",
    "ax.scatter(sample_range, sample_gamma, label=\"Used during sampling\", c=\"#FF5A54\", marker=\"x\", zorder=99)\n",
    "\n",
    "ax.set_xlim(-0.01, 1.01)\n",
    "ax.set_xlabel(r\"Pseudo time $\\tau$\")\n",
    "\n",
    "ax.set_ylim(-15.5, 21)\n",
    "ax.set_ylabel(r\"Log signal-to-noise $(\\lambda_{\\tau})$\")\n",
    "ax.legend(loc=1, bbox_to_anchor=(1.05, 1.05))\n",
    "\n",
    "fig.savefig(\"figures/fig_app_a2_noise_scheduling.png\", dpi=300)"
   ]
  },
  {
   "cell_type": "code",
   "execution_count": null,
   "id": "085887b9-1f3b-4249-8acb-4e08ce0f33de",
   "metadata": {},
   "outputs": [],
   "source": []
  }
 ],
 "metadata": {
  "kernelspec": {
   "display_name": "diffusion_regional",
   "language": "python",
   "name": "diffusion_regional"
  },
  "language_info": {
   "codemirror_mode": {
    "name": "ipython",
    "version": 3
   },
   "file_extension": ".py",
   "mimetype": "text/x-python",
   "name": "python",
   "nbconvert_exporter": "python",
   "pygments_lexer": "ipython3",
   "version": "3.10.13"
  }
 },
 "nbformat": 4,
 "nbformat_minor": 5
}

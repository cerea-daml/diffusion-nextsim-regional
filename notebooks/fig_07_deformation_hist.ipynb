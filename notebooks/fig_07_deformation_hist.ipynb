{
 "cells": [
  {
   "cell_type": "code",
   "execution_count": null,
   "id": "76fbf0cc-87cd-4d70-8d47-77cbaba92861",
   "metadata": {
    "tags": []
   },
   "outputs": [],
   "source": [
    "import xarray as xr\n",
    "import numpy as np\n",
    "import pandas as pd\n",
    "\n",
    "from diffusion_nextsim.deformation import estimate_deform\n",
    "\n",
    "import matplotlib.pyplot as plt\n",
    "import matplotlib.colors as mpl_c\n",
    "import matplotlib.gridspec as mpl_gs\n",
    "import matplotlib.dates as mpl_dates\n",
    "import cartopy.crs as ccrs\n",
    "import cartopy\n",
    "import cmocean"
   ]
  },
  {
   "cell_type": "code",
   "execution_count": null,
   "id": "f6474fa3-e3bb-476b-beab-26dca1aa547c",
   "metadata": {
    "tags": []
   },
   "outputs": [],
   "source": [
    "plt.style.use(\"paper\")\n",
    "plt.style.use(\"wiley\")"
   ]
  },
  {
   "cell_type": "markdown",
   "id": "d899cd14-d63d-42b7-87d1-5c8c18fb0cca",
   "metadata": {},
   "source": [
    "# Load data"
   ]
  },
  {
   "cell_type": "code",
   "execution_count": null,
   "id": "9cbf2c4f-c5f0-4fc8-8be0-7ff0a87ea209",
   "metadata": {},
   "outputs": [],
   "source": [
    "ds_nextsim = xr.open_dataset(\"data/consistency_nextsim.nc\")\n",
    "ds_deterministic = xr.open_dataset(\"data/consistency_deterministic.nc\")\n",
    "ds_diffusion = xr.open_dataset(\"data/consistency_diffusion.nc\")"
   ]
  },
  {
   "cell_type": "markdown",
   "id": "e2e1369b-7240-437a-9ae1-010efc04b919",
   "metadata": {},
   "source": [
    "## Estimate deformation"
   ]
  },
  {
   "cell_type": "code",
   "execution_count": null,
   "id": "a5f99b8a-1e32-4d61-9aaf-bc3759b71710",
   "metadata": {
    "tags": []
   },
   "outputs": [],
   "source": [
    "deform_nextsim = (estimate_deform(ds_nextsim) * 86400).compute()\n",
    "deform_deterministic = (estimate_deform(ds_deterministic) * 86400).compute()\n",
    "deform_diffusion = (estimate_deform(ds_diffusion) * 86400).compute()"
   ]
  },
  {
   "cell_type": "markdown",
   "id": "574cd784-939b-479d-885d-061893867c25",
   "metadata": {},
   "source": [
    "# Lead fraction"
   ]
  },
  {
   "cell_type": "code",
   "execution_count": null,
   "id": "4df7dfc0-a0a5-495c-b81f-251ae5593432",
   "metadata": {},
   "outputs": [],
   "source": [
    "fig, ax = plt.subplots(ncols=3, figsize=(plt.rcParams[\"figure.figsize\"][0], 2))\n",
    "ax[0].grid(ls=\"dotted\", lw=0.5, alpha=0.5)\n",
    "hist, bins = np.histogram(deform_nextsim[\"deform_shear\"].values.flatten(), bins=np.logspace(-3, 1, 51), density=True)\n",
    "ax[0].plot((bins[1:]+bins[:-1])/2, hist, c=\"black\", lw=0.75, marker=\".\", markersize=2)\n",
    "hist, bins = np.histogram(deform_deterministic[\"deform_shear\"].values.flatten(), bins=np.logspace(-3, 1, 51), density=True)\n",
    "ax[0].plot((bins[1:]+bins[:-1])/2, hist, c=\"#81B3D5\", lw=0.75, marker=\".\", markersize=2, ls=\"--\")\n",
    "hist, bins = np.histogram(deform_diffusion[\"deform_shear\"].values.flatten(), bins=np.logspace(-3, 1, 51), density=True)\n",
    "ax[0].plot((bins[1:]+bins[:-1])/2, hist, c=\"#9E62A6\", lw=0.75, marker=\".\", markersize=2)\n",
    "ax[0].text(0.02, 1, \"(a)\", ha=\"left\", va=\"top\", transform=ax[0].transAxes)\n",
    "\n",
    "ax[1].grid(ls=\"dotted\", lw=0.5, alpha=0.5)\n",
    "hist, bins = np.histogram(deform_nextsim[\"deform_div\"].where(deform_nextsim[\"deform_div\"]>0).values.flatten(), bins=np.logspace(-3, 1, 51), density=True)\n",
    "ax[1].plot((bins[1:]+bins[:-1])/2, hist, c=\"black\", lw=0.75, label=\"neXtSIM\", marker=\".\", markersize=2)\n",
    "hist, bins = np.histogram(deform_deterministic[\"deform_div\"].where(deform_deterministic[\"deform_div\"]>0).values.flatten(), bins=np.logspace(-3, 1, 51), density=True)\n",
    "ax[1].plot((bins[1:]+bins[:-1])/2, hist, c=\"#81B3D5\", lw=0.75, label=\"Deterministic\", marker=\".\", markersize=2, ls=\"--\")\n",
    "hist, bins = np.histogram(deform_diffusion[\"deform_div\"].where(deform_diffusion[\"deform_div\"]>0).values.flatten(), bins=np.logspace(-3, 1, 51), density=True)\n",
    "ax[1].plot((bins[1:]+bins[:-1])/2, hist, c=\"#9E62A6\", lw=0.75, label=\"ResDiffusion\", marker=\".\", markersize=2)\n",
    "ax[1].text(0.02, 1, \"(b)\", ha=\"left\", va=\"top\", transform=ax[1].transAxes)\n",
    "\n",
    "\n",
    "ax[2].grid(ls=\"dotted\", lw=0.5, alpha=0.5)\n",
    "hist, bins = np.histogram(-deform_nextsim[\"deform_div\"].where(deform_nextsim[\"deform_div\"]<0).values.flatten(), bins=np.logspace(-3, 1, 51), density=True)\n",
    "ax[2].plot((bins[1:]+bins[:-1])/2, hist, c=\"black\", lw=0.75, marker=\".\", markersize=2)\n",
    "hist, bins = np.histogram(-deform_deterministic[\"deform_div\"].where(deform_deterministic[\"deform_div\"]<0).values.flatten(), bins=np.logspace(-3, 1, 51), density=True)\n",
    "ax[2].plot((bins[1:]+bins[:-1])/2, hist, c=\"#81B3D5\", lw=0.75, marker=\".\", markersize=2, ls=\"--\")\n",
    "hist, bins = np.histogram(-deform_diffusion[\"deform_div\"].where(deform_diffusion[\"deform_div\"]<0).values.flatten(), bins=np.logspace(-3, 1, 51), density=True)\n",
    "ax[2].plot((bins[1:]+bins[:-1])/2, hist, c=\"#9E62A6\", lw=0.75, marker=\".\", markersize=2)\n",
    "ax[2].text(0.02, 1, \"(c)\", ha=\"left\", va=\"top\", transform=ax[2].transAxes)\n",
    "\n",
    "ax[0].set_xlim(1E-3, 2E0)\n",
    "ax[0].set_xscale(\"log\")\n",
    "ax[0].set_xlabel(r\"Shear (day$^{-1})$\")\n",
    "ax[0].set_yscale(\"log\")\n",
    "ax[0].set_ylabel(\"Density\")\n",
    "ax[0].set_ylim(1E-3, 5E2)\n",
    "\n",
    "ax[1].set_xlim(1E-3, 2E0)\n",
    "ax[1].set_xscale(\"log\")\n",
    "ax[1].set_yscale(\"log\")\n",
    "ax[1].set_ylim(1E-3, 5E2)\n",
    "ax[1].set_yticklabels([])\n",
    "ax[1].set_xlabel(r\"Divergence (day$^{-1})$\")\n",
    "\n",
    "ax[2].set_xlim(1E-3, 2E0)\n",
    "ax[2].set_xscale(\"log\")\n",
    "ax[2].set_yscale(\"log\")\n",
    "ax[2].set_ylim(1E-3, 5E2)\n",
    "ax[2].set_yticklabels([])\n",
    "ax[2].set_xlabel(r\"Convergence (day$^{-1})$\")\n",
    "\n",
    "fig.legend(framealpha=1., ncol=3, loc=8, bbox_to_anchor=(0.5, 0.9))\n",
    "\n",
    "\n",
    "fig.subplots_adjust(wspace=0.1)\n",
    "\n",
    "fig.savefig(\"figures/fig_07_deform_hist.png\", dpi=300,)"
   ]
  },
  {
   "cell_type": "code",
   "execution_count": null,
   "id": "411cd37f-36f4-4233-b747-7bff32df2967",
   "metadata": {},
   "outputs": [],
   "source": []
  }
 ],
 "metadata": {
  "kernelspec": {
   "display_name": "diffusion_regional",
   "language": "python",
   "name": "diffusion_regional"
  },
  "language_info": {
   "codemirror_mode": {
    "name": "ipython",
    "version": 3
   },
   "file_extension": ".py",
   "mimetype": "text/x-python",
   "name": "python",
   "nbconvert_exporter": "python",
   "pygments_lexer": "ipython3",
   "version": "3.10.13"
  }
 },
 "nbformat": 4,
 "nbformat_minor": 5
}

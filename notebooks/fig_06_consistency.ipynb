{
 "cells": [
  {
   "cell_type": "code",
   "execution_count": null,
   "id": "76fbf0cc-87cd-4d70-8d47-77cbaba92861",
   "metadata": {
    "tags": []
   },
   "outputs": [],
   "source": [
    "import xarray as xr\n",
    "import numpy as np\n",
    "import pandas as pd\n",
    "\n",
    "from diffusion_nextsim.deformation import estimate_deform\n",
    "\n",
    "import matplotlib.pyplot as plt\n",
    "import matplotlib.colors as mpl_c\n",
    "import matplotlib.gridspec as mpl_gs\n",
    "import matplotlib.dates as mpl_dates\n",
    "import cartopy.crs as ccrs\n",
    "import cartopy\n",
    "import cmocean"
   ]
  },
  {
   "cell_type": "code",
   "execution_count": null,
   "id": "f6474fa3-e3bb-476b-beab-26dca1aa547c",
   "metadata": {
    "tags": []
   },
   "outputs": [],
   "source": [
    "plt.style.use(\"paper\")\n",
    "plt.style.use(\"wiley\")"
   ]
  },
  {
   "cell_type": "markdown",
   "id": "d899cd14-d63d-42b7-87d1-5c8c18fb0cca",
   "metadata": {},
   "source": [
    "# Load data"
   ]
  },
  {
   "cell_type": "code",
   "execution_count": null,
   "id": "9cbf2c4f-c5f0-4fc8-8be0-7ff0a87ea209",
   "metadata": {},
   "outputs": [],
   "source": [
    "ds_nextsim = xr.open_dataset(\"data/consistency_nextsim.nc\")\n",
    "ds_deterministic = xr.open_dataset(\"data/consistency_deterministic.nc\")\n",
    "ds_diffusion = xr.open_dataset(\"data/consistency_diffusion.nc\")"
   ]
  },
  {
   "cell_type": "markdown",
   "id": "e2e1369b-7240-437a-9ae1-010efc04b919",
   "metadata": {},
   "source": [
    "## Estimate deformation"
   ]
  },
  {
   "cell_type": "code",
   "execution_count": null,
   "id": "a5f99b8a-1e32-4d61-9aaf-bc3759b71710",
   "metadata": {
    "tags": []
   },
   "outputs": [],
   "source": [
    "deform_nextsim = (estimate_deform(ds_nextsim) * 86400).compute()\n",
    "deform_deterministic = (estimate_deform(ds_deterministic) * 86400).compute()\n",
    "deform_diffusion = (estimate_deform(ds_diffusion) * 86400).compute()"
   ]
  },
  {
   "cell_type": "code",
   "execution_count": null,
   "id": "b94a69be-05a6-4988-aa66-bd648d177a59",
   "metadata": {},
   "outputs": [],
   "source": [
    "idx_time = 100\n",
    "idx_ens = 0"
   ]
  },
  {
   "cell_type": "code",
   "execution_count": null,
   "id": "19ad8043-c0e3-4961-a750-1142840693c4",
   "metadata": {},
   "outputs": [],
   "source": [
    "fig, ax = plt.subplots(\n",
    "    ncols=4, nrows=3, figsize=(plt.rcParams[\"figure.figsize\"][0], plt.rcParams[\"figure.figsize\"][0]/4*3), dpi=150\n",
    ")\n",
    "        \n",
    "for axi in ax:\n",
    "    for axij in axi:\n",
    "        axij.set_facecolor(\"white\")\n",
    "        axij.xaxis.set_visible(False)\n",
    "        axij.set_yticks([])\n",
    "        axij.spines.left.set_visible(False)\n",
    "        axij.spines.right.set_visible(False)\n",
    "        axij.spines.bottom.set_visible(False)\n",
    "\n",
    "ax[0, 0].set_ylabel(\"neXtSIM\")\n",
    "ax[1, 0].set_ylabel(\"Deterministic\")\n",
    "ax[2, 0].set_ylabel(\"ResDiffusion\")\n",
    "\n",
    "ax[0, 0].pcolormesh(\n",
    "    np.arange(64), np.arange(64),\n",
    "    deform_nextsim[\"deform_div\"].isel(time=idx_time).values,\n",
    "    cmap=\"cmo.curl\", vmin=-0.2, vmax=0.2,\n",
    "    shading=\"nearest\"\n",
    ")\n",
    "ax[0, 0].text(0.02, 0.98, \"(a)\", c=\"black\", ha=\"left\", va=\"top\", transform=ax[0, 0].transAxes)\n",
    "ax[0, 1].pcolormesh(\n",
    "    np.arange(64), np.arange(64),\n",
    "    deform_nextsim[\"deform_shear\"].isel(time=idx_time).values,\n",
    "    cmap=\"pink_r\", vmin=0., vmax=0.2,\n",
    "    shading=\"nearest\"\n",
    ")\n",
    "ax[0, 1].text(0.02, 0.98, \"(b)\", c=\"black\", ha=\"left\", va=\"top\", transform=ax[0, 1].transAxes)\n",
    "ax[0, 2].pcolormesh(\n",
    "    np.arange(64), np.arange(64),\n",
    "    ds_nextsim[\"sic\"].isel(time=idx_time),\n",
    "    cmap=\"cmo.ice\", vmin=0.9, vmax=1,\n",
    "    shading=\"nearest\"\n",
    ")\n",
    "ax[0, 2].text(0.02, 0.98, \"(c)\", c=\"black\", ha=\"left\", va=\"top\", transform=ax[0, 2].transAxes)\n",
    "ax[0, 3].pcolormesh(\n",
    "    np.arange(64), np.arange(64),\n",
    "    ds_nextsim[\"sit\"].isel(time=idx_time)-ds_nextsim[\"sit\"].isel(time=idx_time-1),\n",
    "    cmap=\"cmo.balance\", vmin=-0.5, vmax=0.5,\n",
    "    shading=\"nearest\"\n",
    ")\n",
    "ax[0, 3].text(0.02, 0.98, \"(d)\", c=\"black\", ha=\"left\", va=\"top\", transform=ax[0, 3].transAxes)\n",
    "\n",
    "ax[1, 0].pcolormesh(\n",
    "    np.arange(64), np.arange(64),\n",
    "    deform_deterministic[\"deform_div\"].isel(time=idx_time).values,\n",
    "    cmap=\"cmo.curl_r\", vmin=-0.2, vmax=0.2,\n",
    "    shading=\"nearest\"\n",
    ")\n",
    "ax[1, 0].text(0.02, 0.98, \"(e)\", c=\"black\", ha=\"left\", va=\"top\", transform=ax[1, 0].transAxes)\n",
    "ax[1, 1].pcolormesh(\n",
    "    np.arange(64), np.arange(64),\n",
    "    deform_deterministic[\"deform_shear\"].isel(time=idx_time).values,\n",
    "    cmap=\"pink_r\", vmin=0., vmax=0.2,\n",
    "    shading=\"nearest\"\n",
    ")\n",
    "ax[1, 1].text(0.02, 0.98, \"(f)\", c=\"black\", ha=\"left\", va=\"top\", transform=ax[1, 1].transAxes)\n",
    "ax[1, 2].pcolormesh(\n",
    "    np.arange(64), np.arange(64),\n",
    "    ds_deterministic[\"sic\"].isel(time=idx_time),\n",
    "    cmap=\"cmo.ice\", vmin=0.9, vmax=1,\n",
    "    shading=\"nearest\"\n",
    ")\n",
    "ax[1, 2].text(0.02, 0.98, \"(g)\", c=\"black\", ha=\"left\", va=\"top\", transform=ax[1, 2].transAxes)\n",
    "\n",
    "ax[1, 3].pcolormesh(\n",
    "    np.arange(64), np.arange(64),\n",
    "    ds_deterministic[\"sit\"].isel(time=idx_time)-ds_deterministic[\"sit\"].isel(time=idx_time-1),\n",
    "    cmap=\"cmo.balance\", vmin=-0.5, vmax=0.5,\n",
    "    shading=\"nearest\"\n",
    ")\n",
    "ax[1, 3].text(0.02, 0.98, \"(h)\", c=\"black\", ha=\"left\", va=\"top\", transform=ax[1, 3].transAxes)\n",
    "\n",
    "cf_div = ax[2, 0].pcolormesh(\n",
    "    np.arange(64), np.arange(64),\n",
    "    deform_diffusion[\"deform_div\"].isel(time=idx_time, ens=idx_ens).values,\n",
    "    cmap=\"cmo.curl_r\", vmin=-0.2, vmax=0.2,\n",
    "    shading=\"nearest\"\n",
    ")\n",
    "ax[2, 0].text(0.02, 0.98, \"(i)\", c=\"black\", ha=\"left\", va=\"top\", transform=ax[2, 0].transAxes)\n",
    "cf_shear = ax[2, 1].pcolormesh(\n",
    "    np.arange(64), np.arange(64),\n",
    "    deform_diffusion[\"deform_shear\"].isel(time=idx_time, ens=idx_ens).values,\n",
    "    cmap=\"pink_r\", vmin=0., vmax=0.2,\n",
    "    shading=\"nearest\"\n",
    ")\n",
    "ax[2, 1].text(0.02, 0.98, \"(f)\", c=\"black\", ha=\"left\", va=\"top\", transform=ax[2, 1].transAxes)\n",
    "cf_sic = ax[2, 2].pcolormesh(\n",
    "    np.arange(64), np.arange(64),\n",
    "    ds_diffusion[\"sic\"].isel(time=idx_time, ens=idx_ens),\n",
    "    cmap=\"cmo.ice\", vmin=0.9, vmax=1,\n",
    "    shading=\"nearest\"\n",
    ")\n",
    "ax[2, 2].text(0.02, 0.98, \"(k)\", c=\"black\", ha=\"left\", va=\"top\", transform=ax[2, 2].transAxes)\n",
    "\n",
    "cf_delta = ax[2, 3].pcolormesh(\n",
    "    np.arange(64), np.arange(64),\n",
    "    ds_diffusion[\"sit\"].isel(time=idx_time, ens=idx_ens)-ds_diffusion[\"sit\"].isel(time=idx_time-1, ens=idx_ens),\n",
    "    cmap=\"cmo.balance\", vmin=-0.5, vmax=0.5,\n",
    "    shading=\"nearest\"\n",
    ")\n",
    "ax[2, 3].text(0.02, 0.98, \"(l)\", c=\"black\", ha=\"left\", va=\"top\", transform=ax[2, 3].transAxes)\n",
    "\n",
    "div_pos = ax[2, 0].get_position()\n",
    "cax_div = fig.add_axes([div_pos.x0+0.02, 0.09, div_pos.x1-div_pos.x0-0.04, 0.015])\n",
    "cbar_div = plt.colorbar(cf_div, cax_div, orientation=\"horizontal\")\n",
    "cax_div.text(x=0.5, y=-6.5, s=\"Div (day$^{-1}$)\", ha=\"center\", va=\"bottom\", transform=cax_div.transAxes, size=9)\n",
    "\n",
    "shear_pos = ax[2, 1].get_position()\n",
    "cax_shear = fig.add_axes([shear_pos.x0+0.02, 0.09, shear_pos.x1-shear_pos.x0-0.04, 0.015])\n",
    "cbar_shear = plt.colorbar(cf_shear, cax_shear, orientation=\"horizontal\")\n",
    "cax_shear.text(x=0.5, y=-6.5, s=\"Shear (day$^{-1}$)\", ha=\"center\", va=\"bottom\", transform=cax_shear.transAxes, size=9)\n",
    "\n",
    "sic_pos = ax[2, 2].get_position()\n",
    "cax_sic = fig.add_axes([sic_pos.x0+0.02, 0.09, sic_pos.x1-sic_pos.x0-0.04, 0.015])\n",
    "cbar_sic = plt.colorbar(cf_sic, cax_sic, orientation=\"horizontal\")\n",
    "cax_sic.text(x=0.5, y=-6.5, s=\"SIC\", ha=\"center\", va=\"bottom\", transform=cax_sic.transAxes, size=9)\n",
    "\n",
    "delta_pos = ax[2, 3].get_position()\n",
    "cax_delta = fig.add_axes([delta_pos.x0+0.02, 0.09, delta_pos.x1-delta_pos.x0-0.04, 0.015])\n",
    "cbar_delta = plt.colorbar(cf_delta, cax_delta, orientation=\"horizontal\")\n",
    "cax_delta.text(x=0.5, y=-6.5, s=\"$\\Delta$ SIT (m)\", ha=\"center\", va=\"bottom\", transform=cax_delta.transAxes, size=9)\n",
    "\n",
    "fig.savefig(\"figures/fig_06_consistency.png\", dpi=300,)"
   ]
  }
 ],
 "metadata": {
  "kernelspec": {
   "display_name": "diffusion_regional",
   "language": "python",
   "name": "diffusion_regional"
  },
  "language_info": {
   "codemirror_mode": {
    "name": "ipython",
    "version": 3
   },
   "file_extension": ".py",
   "mimetype": "text/x-python",
   "name": "python",
   "nbconvert_exporter": "python",
   "pygments_lexer": "ipython3",
   "version": "3.10.13"
  }
 },
 "nbformat": 4,
 "nbformat_minor": 5
}

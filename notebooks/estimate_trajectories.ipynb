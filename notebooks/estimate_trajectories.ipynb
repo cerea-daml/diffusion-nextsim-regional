{
 "cells": [
  {
   "cell_type": "code",
   "execution_count": null,
   "id": "76fbf0cc-87cd-4d70-8d47-77cbaba92861",
   "metadata": {
    "tags": []
   },
   "outputs": [],
   "source": [
    "from functools import partial\n",
    "import types\n",
    "import logging\n",
    "logging.disable(logging.WARNING)\n",
    "\n",
    "from copy import deepcopy\n",
    "\n",
    "import xarray as xr\n",
    "import numpy as np\n",
    "from numpy import ma\n",
    "import torch\n",
    "import pandas as pd\n",
    "from distributed import LocalCluster, Client\n",
    "\n",
    "import lightning.pytorch as pl\n",
    "\n",
    "from ddm_dynamical.scheduler import EDMSamplingScheduler, LinearScheduler\n",
    "from ddm_dynamical.sampler import HeunSampler\n",
    "from ddm_dynamical.parameterization import VParam\n",
    "from diffusion_nextsim.data import TrajectoryDataset\n",
    "from diffusion_nextsim.data.utils import get_mesh, estimate_rot2curv, rotate_uv2curv\n",
    "from diffusion_nextsim.deformation import estimate_deform\n",
    "from diffusion_nextsim.freedrift import OnlyAtmosphereModule\n",
    "\n",
    "from tqdm.notebook import trange\n",
    "\n",
    "from hydra import compose, initialize\n",
    "from hydra.utils import instantiate\n",
    "\n",
    "import matplotlib.pyplot as plt"
   ]
  },
  {
   "cell_type": "code",
   "execution_count": null,
   "id": "f6474fa3-e3bb-476b-beab-26dca1aa547c",
   "metadata": {
    "tags": []
   },
   "outputs": [],
   "source": [
    "torch.manual_seed(42)\n",
    "torch.set_float32_matmul_precision('high')"
   ]
  },
  {
   "cell_type": "code",
   "execution_count": null,
   "id": "b038887d-ac0c-451b-8d87-2780cb8e82f1",
   "metadata": {
    "tags": []
   },
   "outputs": [],
   "source": [
    "n_leadtime = 100\n",
    "n_ens = 16"
   ]
  },
  {
   "cell_type": "markdown",
   "id": "d899cd14-d63d-42b7-87d1-5c8c18fb0cca",
   "metadata": {},
   "source": [
    "# Load data"
   ]
  },
  {
   "cell_type": "code",
   "execution_count": null,
   "id": "8222b886-2c24-4ee0-9f01-78ef491d5720",
   "metadata": {
    "tags": []
   },
   "outputs": [],
   "source": [
    "ds_regional = xr.open_zarr(\"../data/nextsim/test_regional.zarr\")\n",
    "ds_aux = xr.open_dataset(\"../data/auxiliary/ds_auxiliary_regional.nc\")"
   ]
  },
  {
   "cell_type": "code",
   "execution_count": null,
   "id": "6819dd94-df00-433f-8c39-f5179998a772",
   "metadata": {},
   "outputs": [],
   "source": [
    "start_time = \"2017-11-10 03:00\""
   ]
  },
  {
   "cell_type": "code",
   "execution_count": null,
   "id": "8cff6923-da31-472d-9a77-875a39ea8dbf",
   "metadata": {
    "tags": []
   },
   "outputs": [],
   "source": [
    "device = torch.device(\"cuda\")"
   ]
  },
  {
   "cell_type": "code",
   "execution_count": null,
   "id": "bdf5a822-d24d-4ff9-be02-38ac5a0099ea",
   "metadata": {
    "tags": []
   },
   "outputs": [],
   "source": [
    "with initialize(version_base=None, config_path=\"../configs\", job_name=\"predict_surrogate\"):\n",
    "    cfg = compose(\n",
    "        config_name=\"surrogate_test.yaml\",\n",
    "        overrides=[\n",
    "            \"+experiments/deterministic=deterministic\",\n",
    "            \"+computer=laputa\",\n",
    "            \"network=uvit_s\",\n",
    "            \"ckpt_path='../data/models/deterministic/deterministic/best.ckpt'\",\n",
    "        ])"
   ]
  },
  {
   "cell_type": "code",
   "execution_count": null,
   "id": "513d0faa-01d9-4169-ad9b-4ff94b138363",
   "metadata": {
    "tags": []
   },
   "outputs": [],
   "source": [
    "ds_states = ds_regional[\"state_data\"].sel(var_names_1=cfg.data.state_variables).sel(time=slice(start_time, None))[:n_leadtime*2+1:2]\n",
    "ds_forcings = ds_regional[\"forcing_data\"].sel(var_names_2=cfg.data.forcing_variables).sel(time=slice(start_time, None))[:n_leadtime*2+1:2]"
   ]
  },
  {
   "cell_type": "code",
   "execution_count": null,
   "id": "8098ff34-8424-437a-8f3d-32d5b91d6728",
   "metadata": {},
   "outputs": [],
   "source": [
    "ds_states.to_dataset(\"var_names_1\").to_netcdf(\"data/consistency_nextsim.nc\")"
   ]
  },
  {
   "cell_type": "code",
   "execution_count": null,
   "id": "17c953f9-0deb-45aa-b863-d6b726539bc0",
   "metadata": {
    "tags": []
   },
   "outputs": [],
   "source": [
    "mask = torch.from_numpy(ds_aux[\"mask\"].values).float().to(device)[None, None, ...]\n",
    "mesh = get_mesh(ds_aux, length_scale=1.)\n",
    "mesh = torch.from_numpy(mesh).float().to(device)[None, ...]"
   ]
  },
  {
   "cell_type": "markdown",
   "id": "c0ce19b9-c5d9-4b82-a6f1-df6ce9c166d8",
   "metadata": {},
   "source": [
    "### Rotate forcings"
   ]
  },
  {
   "cell_type": "code",
   "execution_count": null,
   "id": "1967e7ab-b273-4104-86ee-b40e0503a5e7",
   "metadata": {},
   "outputs": [],
   "source": [
    "ds_forcings = xr.concat((\n",
    "    ds_forcings.sel(var_names_2=\"tus\", drop=True),\n",
    "    ds_forcings.sel(var_names_2=\"huss\", drop=True),\n",
    "    *rotate_uv2curv(ds_forcings.sel(var_names_2=\"uas\", drop=True), ds_forcings.sel(var_names_2=\"vas\", drop=True),*estimate_rot2curv(ds_aux))\n",
    "), dim=\"var_names_2\")\n",
    "ds_forcings = ds_forcings.transpose(\"time\", \"var_names_2\", \"y\", \"x\")"
   ]
  },
  {
   "cell_type": "markdown",
   "id": "74ae5833-7455-4684-9f86-6855e80251f0",
   "metadata": {},
   "source": [
    "# Predict with deterministic"
   ]
  },
  {
   "cell_type": "markdown",
   "id": "5e98a144-8f83-4585-9213-19f6a3255ae6",
   "metadata": {},
   "source": [
    "## Load model"
   ]
  },
  {
   "cell_type": "code",
   "execution_count": null,
   "id": "d11a6e99-e61c-403d-8efc-cf2cdd1f0628",
   "metadata": {
    "tags": []
   },
   "outputs": [],
   "source": [
    "model = instantiate(cfg.surrogate)\n",
    "model = type(model).load_from_checkpoint(\n",
    "    cfg.ckpt_path, map_location=device, strict=False\n",
    ")\n",
    "model = model.to(device).eval()"
   ]
  },
  {
   "cell_type": "markdown",
   "id": "8b3091f3-8284-4887-86f7-e7338c959644",
   "metadata": {},
   "source": [
    "## Predict"
   ]
  },
  {
   "cell_type": "code",
   "execution_count": null,
   "id": "d3bdb50c-8331-4821-99fa-bdf82ee53f90",
   "metadata": {
    "tags": []
   },
   "outputs": [],
   "source": [
    "predictions = [ds_states[0].values]\n",
    "for k in trange(1, n_leadtime+1):\n",
    "    states = torch.from_numpy(predictions[-1]).float().to(device)[None, None, ...]\n",
    "    forcings = torch.from_numpy(ds_forcings[k-1:k+1].values).float().to(device)[None, ...]\n",
    "    with torch.no_grad():\n",
    "        curr_pred = model(states, forcings, mask=mask, mesh=mesh).squeeze(0)\n",
    "    predictions.append(curr_pred.cpu().numpy())"
   ]
  },
  {
   "cell_type": "code",
   "execution_count": null,
   "id": "cbc8c525-0788-44ad-a76a-595d9e3c3a82",
   "metadata": {
    "tags": []
   },
   "outputs": [],
   "source": [
    "det_predictions = ds_states[:n_leadtime+1].copy(data=np.stack(predictions))\n",
    "det_predictions.to_dataset(\"var_names_1\").to_netcdf(\"data/consistency_deterministic.nc\")"
   ]
  },
  {
   "cell_type": "markdown",
   "id": "0c38abff-6fb5-4d8f-b53a-466b854b16a3",
   "metadata": {},
   "source": [
    "# Predict with diffusion model"
   ]
  },
  {
   "cell_type": "markdown",
   "id": "2408ac6c-5959-4c42-9bf3-2c8cb2cae02f",
   "metadata": {},
   "source": [
    "## Load model"
   ]
  },
  {
   "cell_type": "code",
   "execution_count": null,
   "id": "b1601b23",
   "metadata": {
    "tags": []
   },
   "outputs": [],
   "source": [
    "with initialize(version_base=None, config_path=\"../configs\", job_name=\"predict_surrogate\"):\n",
    "    cfg_diff = compose(\n",
    "        config_name=\"surrogate_test.yaml\",\n",
    "        overrides=[\n",
    "            \"+experiments/diffusion=residual\",\n",
    "            \"+computer=laputa\",\n",
    "            \"sampler=heun\",\n",
    "            \"network=uvit_l\",\n",
    "            \"surrogate.ckpt_det='../data/models/deterministic/deterministic/best.ckpt'\",\n",
    "            \"ckpt_path='../data/models/diffusion/resdiff_l_exp/best.ckpt'\",\n",
    "        ])"
   ]
  },
  {
   "cell_type": "code",
   "execution_count": null,
   "id": "30ea614e",
   "metadata": {
    "tags": []
   },
   "outputs": [],
   "source": [
    "model_diff = instantiate(cfg_diff.surrogate)\n",
    "_ = model_diff.load_state_dict(\n",
    "    torch.load(cfg_diff.ckpt_path, map_location=device)[\"state_dict\"],\n",
    "    strict=False\n",
    ")\n",
    "model_diff = model_diff.to(device).eval()"
   ]
  },
  {
   "cell_type": "markdown",
   "id": "069a9e54-e699-41a8-9d40-f734ff124304",
   "metadata": {},
   "source": [
    "## Prediction"
   ]
  },
  {
   "cell_type": "code",
   "execution_count": null,
   "id": "1cff0447",
   "metadata": {
    "tags": []
   },
   "outputs": [],
   "source": [
    "pred_diff = [\n",
    "    np.broadcast_to(ds_states[0].values, (n_ens, 5, 64, 64)),\n",
    "]\n",
    "mask = mask.expand(n_ens, 1, 64, 64)\n",
    "for k in trange(1, n_leadtime+1):\n",
    "    states = torch.from_numpy(pred_diff[-1]).float().to(device)[:, None, ...]\n",
    "    forcings = torch.from_numpy(ds_forcings[k-1:k+1].values).float().to(device)[None, ...]\n",
    "    forcings = forcings.expand(n_ens, 2, 4, 64, 64).reshape(n_ens, 2, 4, 64, 64)\n",
    "    with torch.no_grad():\n",
    "        curr_pred = model_diff(states, forcings, mask=mask, mesh=torch.ones_like(mask))\n",
    "    pred_diff.append(curr_pred.cpu().numpy())"
   ]
  },
  {
   "cell_type": "code",
   "execution_count": null,
   "id": "c2a98834",
   "metadata": {
    "tags": []
   },
   "outputs": [],
   "source": [
    "diff_predictions = ds_states.expand_dims(ens=np.arange(n_ens), axis=1).copy(data=np.stack(pred_diff))\n",
    "diff_predictions.to_dataset(\"var_names_1\").to_netcdf(\"data/consistency_diffusion.nc\")"
   ]
  },
  {
   "cell_type": "code",
   "execution_count": null,
   "id": "aeaa74cc-c219-4fbe-8a6f-32f45bd7a1fa",
   "metadata": {},
   "outputs": [],
   "source": []
  }
 ],
 "metadata": {
  "kernelspec": {
   "display_name": "diffusion_regional",
   "language": "python",
   "name": "diffusion_regional"
  },
  "language_info": {
   "codemirror_mode": {
    "name": "ipython",
    "version": 3
   },
   "file_extension": ".py",
   "mimetype": "text/x-python",
   "name": "python",
   "nbconvert_exporter": "python",
   "pygments_lexer": "ipython3",
   "version": "3.10.13"
  }
 },
 "nbformat": 4,
 "nbformat_minor": 5
}
